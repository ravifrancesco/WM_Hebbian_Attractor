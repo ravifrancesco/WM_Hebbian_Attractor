{
 "cells": [
  {
   "cell_type": "code",
   "execution_count": 161,
   "metadata": {},
   "outputs": [],
   "source": [
    "import random\n",
    "\n",
    "import numpy as np\n",
    "\n",
    "import math\n",
    "\n",
    "import seaborn as sns\n",
    "\n",
    "import pandas as pd"
   ]
  },
  {
   "attachments": {},
   "cell_type": "markdown",
   "metadata": {},
   "source": [
    "# Global"
   ]
  },
  {
   "cell_type": "code",
   "execution_count": 162,
   "metadata": {},
   "outputs": [],
   "source": [
    "n_trials = 20\n",
    "\n",
    "size_range = range(3, 8)"
   ]
  },
  {
   "attachments": {},
   "cell_type": "markdown",
   "metadata": {},
   "source": [
    "# Functions"
   ]
  },
  {
   "cell_type": "code",
   "execution_count": 163,
   "metadata": {},
   "outputs": [],
   "source": [
    "def init_grid(size):\n",
    "    n_elements = size**2\n",
    "    elements = np.arange(n_elements)\n",
    "    elements = np.repeat(elements, 2)[:n_elements]\n",
    "    np.random.shuffle(elements)\n",
    "    return list(elements)"
   ]
  },
  {
   "cell_type": "code",
   "execution_count": 164,
   "metadata": {},
   "outputs": [],
   "source": [
    "def pick(grid, flipped):\n",
    "    pos = random.choice(flipped)\n",
    "    return grid[pos], pos"
   ]
  },
  {
   "cell_type": "code",
   "execution_count": 165,
   "metadata": {},
   "outputs": [],
   "source": [
    "def collect_data(n_trials, size_range, strategy):\n",
    "    data = []\n",
    "    for size in size_range:\n",
    "        data_size = []\n",
    "        for n in range(n_trials):\n",
    "            data_size.append(math.log10(strategy(size)))\n",
    "        data.append(data_size)\n",
    "    return data"
   ]
  },
  {
   "attachments": {},
   "cell_type": "markdown",
   "metadata": {},
   "source": [
    "# Random selectivity"
   ]
  },
  {
   "cell_type": "code",
   "execution_count": 166,
   "metadata": {},
   "outputs": [],
   "source": [
    "def play_random(size):\n",
    "    counter = 0\n",
    "\n",
    "    grid = init_grid(size)\n",
    "    flipped = list(range(size**2))\n",
    "\n",
    "    while len(flipped) > 1:\n",
    "        el1, pos1 = pick(grid, flipped)\n",
    "        \n",
    "        flipped_cp = flipped.copy()\n",
    "        flipped_cp.remove(pos1)\n",
    "        el2, pos2 = pick(grid, flipped_cp)\n",
    "\n",
    "        if el1 == el2:\n",
    "            flipped.remove(pos1)\n",
    "            flipped.remove(pos2)\n",
    "            \n",
    "        counter+=1\n",
    "    \n",
    "    return counter/(size**2)\n"
   ]
  },
  {
   "attachments": {},
   "cell_type": "markdown",
   "metadata": {},
   "source": [
    "# 1st Perfect Memory"
   ]
  },
  {
   "cell_type": "code",
   "execution_count": 167,
   "metadata": {},
   "outputs": [],
   "source": [
    "def play_first_pm(size):\n",
    "    counter = 0\n",
    "\n",
    "    grid = init_grid(size)\n",
    "    flipped = list(range(size**2))\n",
    "    memory =  [None]*(size**2)\n",
    "\n",
    "    while len(flipped) > 1:\n",
    "        el1, pos1 = pick(grid, flipped)\n",
    "        memory[pos1] = el1\n",
    "\n",
    "        if el1 in memory and pos1 != memory.index(el1):\n",
    "            el2 = el1\n",
    "            pos2 = memory.index(el1)\n",
    "        else:\n",
    "            flipped_cp = flipped.copy()\n",
    "            flipped_cp.remove(pos1)\n",
    "            el2, pos2 = pick(grid, flipped_cp)\n",
    "\n",
    "        if el1 == el2:\n",
    "            flipped.remove(pos1)\n",
    "            flipped.remove(pos2)\n",
    "\n",
    "        counter+=1\n",
    "    \n",
    "    return counter/(size**2)"
   ]
  },
  {
   "attachments": {},
   "cell_type": "markdown",
   "metadata": {},
   "source": [
    "# 2nd Perfect Memory"
   ]
  },
  {
   "cell_type": "code",
   "execution_count": 168,
   "metadata": {},
   "outputs": [],
   "source": [
    "def play_second_pm(size):\n",
    "    counter = 0\n",
    "\n",
    "    grid = init_grid(size)\n",
    "    flipped = list(range(size**2))\n",
    "    memory =  [None]*(size**2)\n",
    "\n",
    "    while len(flipped) > 1:\n",
    "        el1, pos1 = pick(grid, flipped)\n",
    "\n",
    "        if el1 in memory and pos1 != memory.index(el1):\n",
    "            el2 = el1\n",
    "            pos2 = memory.index(el1)\n",
    "        else:\n",
    "            flipped_cp = flipped.copy()\n",
    "            flipped_cp.remove(pos1)\n",
    "            el2, pos2 = pick(grid, flipped_cp)\n",
    "        memory[pos2] = el2\n",
    "\n",
    "\n",
    "        if el1 == el2:\n",
    "            flipped.remove(pos1)\n",
    "            flipped.remove(pos2)\n",
    "\n",
    "        counter+=1\n",
    "    \n",
    "    return counter/(size**2)"
   ]
  },
  {
   "attachments": {},
   "cell_type": "markdown",
   "metadata": {},
   "source": [
    "# Perfect Memory"
   ]
  },
  {
   "cell_type": "code",
   "execution_count": 169,
   "metadata": {},
   "outputs": [],
   "source": [
    "def play_pm(size):\n",
    "    counter = 0\n",
    "\n",
    "    grid = init_grid(size)\n",
    "    flipped = list(range(size**2))\n",
    "    memory =  [None]*(size**2)\n",
    "\n",
    "    while len(flipped) > 1:\n",
    "        el1, pos1 = pick(grid, flipped)\n",
    "        memory[pos1] = el1\n",
    "\n",
    "        if el1 in memory and pos1 != memory.index(el1):\n",
    "            el2 = el1\n",
    "            pos2 = memory.index(el1)\n",
    "        else:\n",
    "            flipped_cp = flipped.copy()\n",
    "            flipped_cp.remove(pos1)\n",
    "            el2, pos2 = pick(grid, flipped_cp)\n",
    "        memory[pos2] = el2\n",
    "\n",
    "        if el1 == el2:\n",
    "            flipped.remove(pos1)\n",
    "            flipped.remove(pos2)\n",
    "\n",
    "        counter+=1\n",
    "    \n",
    "    return counter/(size**2)"
   ]
  },
  {
   "attachments": {},
   "cell_type": "markdown",
   "metadata": {},
   "source": [
    "# Collect data"
   ]
  },
  {
   "cell_type": "code",
   "execution_count": 170,
   "metadata": {},
   "outputs": [],
   "source": [
    "rand = collect_data(n_trials, size_range, play_random)\n",
    "first_pm = collect_data(n_trials, size_range, play_first_pm)\n",
    "second_pm = collect_data(n_trials, size_range, play_second_pm)\n",
    "pm = collect_data(n_trials, size_range, play_pm)"
   ]
  },
  {
   "cell_type": "code",
   "execution_count": 171,
   "metadata": {},
   "outputs": [],
   "source": [
    "rand_df = pd.melt(pd.DataFrame(rand).T, var_name='size', value_name='nclicks')\n",
    "rand_df['strategy'] = 'Random'\n",
    "\n",
    "first_pm_df = pd.melt(pd.DataFrame(first_pm).T, var_name='size', value_name='nclicks')\n",
    "first_pm_df['strategy'] = 'First perfect memory'\n",
    "\n",
    "second_pm_df = pd.melt(pd.DataFrame(second_pm).T, var_name='size', value_name='nclicks')\n",
    "second_pm_df['strategy'] = 'Second perfect memory'\n",
    "\n",
    "pm_df = pd.melt(pd.DataFrame(pm).T, var_name='size', value_name='nclicks')\n",
    "pm_df['strategy'] = 'Perfect memory'"
   ]
  },
  {
   "cell_type": "code",
   "execution_count": 172,
   "metadata": {},
   "outputs": [],
   "source": [
    "data = pd.concat([rand_df, first_pm_df, second_pm_df, pm_df])"
   ]
  },
  {
   "attachments": {},
   "cell_type": "markdown",
   "metadata": {},
   "source": [
    "# Plot"
   ]
  },
  {
   "cell_type": "code",
   "execution_count": 173,
   "metadata": {},
   "outputs": [
    {
     "data": {
      "text/plain": [
       "<seaborn.axisgrid.FacetGrid at 0x7fb1893c4d90>"
      ]
     },
     "execution_count": 173,
     "metadata": {},
     "output_type": "execute_result"
    },
    {
     "data": {
      "image/png": "[encoded data removed]",
      "text/plain": [
       "<Figure size 967.5x500 with 1 Axes>"
      ]
     },
     "metadata": {},
     "output_type": "display_data"
    }
   ],
   "source": [
    "sns.catplot(x=\"size\", y='nclicks', hue=\"strategy\", kind=\"point\", \n",
    "            capsize=.15, data=data, aspect=1.5, errwidth=0.5)"
   ]
  }
 ],
 "metadata": {
  "kernelspec": {
   "display_name": "base",
   "language": "python",
   "name": "python3"
  },
  "language_info": {
   "codemirror_mode": {
    "name": "ipython",
    "version": 3
   },
   "file_extension": ".py",
   "mimetype": "text/x-python",
   "name": "python",
   "nbconvert_exporter": "python",
   "pygments_lexer": "ipython3",
   "version": "3.9.16"
  },
  "orig_nbformat": 4
 },
 "nbformat": 4,
 "nbformat_minor": 2
}

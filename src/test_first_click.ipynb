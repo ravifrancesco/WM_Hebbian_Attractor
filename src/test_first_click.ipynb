{
 "cells": [
  {
   "cell_type": "code",
   "execution_count": 1,
   "metadata": {},
   "outputs": [],
   "source": [
    "from game import Game\n",
    "\n",
    "from fiftyone import ViewField as F\n",
    "\n",
    "import torch\n",
    "\n",
    "import pandas as pd\n",
    "\n",
    "from memory import FastAttractor\n",
    "\n",
    "from strategies import FastAttractorMemory\n",
    "\n",
    "from tqdm import tqdm\n",
    "\n",
    "import math\n",
    "\n",
    "import numpy as np\n",
    "\n",
    "import matplotlib.pyplot as plt\n",
    "import seaborn as sns\n",
    "\n"
   ]
  },
  {
   "cell_type": "code",
   "execution_count": 2,
   "metadata": {},
   "outputs": [],
   "source": [
    "n_trials = 20\n",
    "\n",
    "size_range = [[3,3], [4,4], [5,5], [6,6], [7,7]]\n",
    "\n",
    "steps = 10"
   ]
  },
  {
   "cell_type": "code",
   "execution_count": 3,
   "metadata": {},
   "outputs": [
    {
     "name": "stdout",
     "output_type": "stream",
     "text": [
      "Downloading split 'validation' to '/home/ravi/datasets/coco-2017/validation' if necessary\n",
      "Found annotations at '/home/ravi/datasets/coco-2017/raw/instances_val2017.json'\n",
      "Images already downloaded\n",
      "Existing download of split 'validation' is sufficient\n",
      "Loading existing dataset 'coco-2017-validation'. To reload from disk, either delete the existing dataset or provide a custom `dataset_name` to use\n"
     ]
    }
   ],
   "source": [
    "game = Game(\n",
    "            dataset_name='coco-2017', \n",
    "            split='validation', \n",
    "            field=\"ground_truth\", \n",
    "            ds_filter=F(\"supercategory\").is_in(('person', 'animal', 'food', 'vehicle', 'indoor')),\n",
    "            dataset_dir =\"/home/ravi/datasets/coco-2017\",\n",
    "        )"
   ]
  },
  {
   "cell_type": "code",
   "execution_count": 4,
   "metadata": {},
   "outputs": [],
   "source": [
    "def play_strategy(strategy, game, max_steps=500):\n",
    "    win = False\n",
    "    steps = 0\n",
    "    while not win and steps < max_steps:\n",
    "        strategy.pick()\n",
    "        win = game.check_win()\n",
    "        torch.cuda.empty_cache()\n",
    "        steps+=1\n"
   ]
  },
  {
   "cell_type": "code",
   "execution_count": 5,
   "metadata": {},
   "outputs": [],
   "source": [
    "memory = FastAttractor(14, 0.8, 0.85, f='tanh')"
   ]
  },
  {
   "cell_type": "code",
   "execution_count": 6,
   "metadata": {},
   "outputs": [],
   "source": [
    "clicks = [[0, 0], [4,2], [4,8],[3,3],[2,1],[3,8], [3,3], [0, 5], [1,1]]\n",
    "clicks += [[0,0], [3,3], [0, 5]]"
   ]
  },
  {
   "cell_type": "code",
   "execution_count": 7,
   "metadata": {},
   "outputs": [],
   "source": [
    "for c in clicks:\n",
    "    curr_oh = torch.full([5], -1.0)\n",
    "    curr_oh[c[0]] = 1.0\n",
    "    pos_oh = torch.full([9], -1.0)\n",
    "    pos_oh[c[1]] = 1.0\n",
    "    h = torch.unsqueeze(torch.concat([pos_oh, curr_oh]), dim=0)\n",
    "    memory(h, 10)"
   ]
  },
  {
   "cell_type": "code",
   "execution_count": 8,
   "metadata": {},
   "outputs": [
    {
     "name": "stdout",
     "output_type": "stream",
     "text": [
      "tensor([-0.1196, -0.1361, -0.1446, -0.1295, -0.1446,  0.0871, -0.1446, -0.1446,\n",
      "        -0.1436,  0.1165, -0.1366, -0.1442, -0.1281, -0.1445],\n",
      "       grad_fn=<SelectBackward0>)\n"
     ]
    }
   ],
   "source": [
    "print(memory.M[9+0])"
   ]
  },
  {
   "cell_type": "code",
   "execution_count": 9,
   "metadata": {},
   "outputs": [
    {
     "data": {
      "text/plain": [
       "tensor([[-0.1511, -0.1724, -0.1940, -0.1019, -0.1941,  0.0175, -0.1941, -0.1941,\n",
       "         -0.1916,  0.6592, -0.1737, -0.1930, -0.0986, -0.1937]])"
      ]
     },
     "execution_count": 9,
     "metadata": {},
     "output_type": "execute_result"
    }
   ],
   "source": [
    "pos_oh = torch.zeros(9)\n",
    "curr_oh = torch.zeros(5)\n",
    "curr_oh[0] = 2.\n",
    "x = torch.unsqueeze(torch.concat([pos_oh, curr_oh]), dim=0)\n",
    "memory(x, 10)"
   ]
  }
 ],
 "metadata": {
  "kernelspec": {
   "display_name": "Python 3",
   "language": "python",
   "name": "python3"
  },
  "language_info": {
   "codemirror_mode": {
    "name": "ipython",
    "version": 3
   },
   "file_extension": ".py",
   "mimetype": "text/x-python",
   "name": "python",
   "nbconvert_exporter": "python",
   "pygments_lexer": "ipython3",
   "version": "3.9.16"
  },
  "orig_nbformat": 4
 },
 "nbformat": 4,
 "nbformat_minor": 2
}

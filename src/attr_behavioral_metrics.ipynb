{
 "cells": [
  {
   "cell_type": "code",
   "execution_count": 1,
   "metadata": {},
   "outputs": [],
   "source": [
    "import scipy.io\n",
    "\n",
    "import pandas as pd\n",
    "\n",
    "import seaborn as sns\n",
    "import matplotlib.pyplot as plt\n",
    "import matplotlib.gridspec as grd\n",
    "\n",
    "import numpy as np\n",
    "\n",
    "from game import Game\n",
    "from strategies import FastAttractorMemory, BaseStrategy, PerfectMemory\n",
    "from memory import FastAttractor\n",
    "\n",
    "import torch\n",
    "from tqdm import tqdm\n",
    "\n",
    "from fiftyone import ViewField as F\n",
    "\n",
    "import scipy.io as sio\n",
    "\n",
    "import math"
   ]
  },
  {
   "cell_type": "code",
   "execution_count": null,
   "metadata": {},
   "outputs": [
    {
     "ename": "",
     "evalue": "",
     "output_type": "error",
     "traceback": [
      "\u001b[1;31mnotebook controller is DISPOSED. \n",
      "\u001b[1;31mView Jupyter <a href='command:jupyter.viewOutput'>log</a> for further details."
     ]
    }
   ],
   "source": [
    "n_trials = 20\n",
    "\n",
    "steps = 10\n",
    "\n",
    "size_range = [[3,3], [4,4], [5,5], [6,6], [7,7]]"
   ]
  },
  {
   "cell_type": "code",
   "execution_count": null,
   "metadata": {},
   "outputs": [
    {
     "ename": "",
     "evalue": "",
     "output_type": "error",
     "traceback": [
      "\u001b[1;31mnotebook controller is DISPOSED. \n",
      "\u001b[1;31mView Jupyter <a href='command:jupyter.viewOutput'>log</a> for further details."
     ]
    }
   ],
   "source": [
    "def save_mat(path, df):\n",
    "    result = []\n",
    "\n",
    "    for column in df.columns:\n",
    "        entries = df[column].values\n",
    "        column_tuple = (np.array([column]), entries.reshape(-1, 1))\n",
    "        result.append(column_tuple)\n",
    "\n",
    "    # Convert the result list to an array\n",
    "    result_array = np.array(result)\n",
    "\n",
    "    sio.savemat(path, {'b_data': result_array})"
   ]
  },
  {
   "cell_type": "code",
   "execution_count": null,
   "metadata": {},
   "outputs": [
    {
     "ename": "",
     "evalue": "",
     "output_type": "error",
     "traceback": [
      "\u001b[1;31mnotebook controller is DISPOSED. \n",
      "\u001b[1;31mView Jupyter <a href='command:jupyter.viewOutput'>log</a> for further details."
     ]
    }
   ],
   "source": [
    "def play_strategy(strategy, game, max_steps=1500):\n",
    "    win = False\n",
    "    steps = 0\n",
    "    while not win and steps < max_steps:\n",
    "        strategy.pick()\n",
    "        win = game.check_win()\n",
    "        torch.cuda.empty_cache()\n",
    "        steps+=1"
   ]
  },
  {
   "cell_type": "code",
   "execution_count": null,
   "metadata": {},
   "outputs": [
    {
     "ename": "",
     "evalue": "",
     "output_type": "error",
     "traceback": [
      "\u001b[1;31mnotebook controller is DISPOSED. \n",
      "\u001b[1;31mView Jupyter <a href='command:jupyter.viewOutput'>log</a> for further details."
     ]
    }
   ],
   "source": [
    "def collect_data(n_trials, size_range, strategy, game):\n",
    "    dfs = []\n",
    "    tot_clicks = []\n",
    "    for i, size in enumerate(size_range): \n",
    "        size_clicks = []\n",
    "        for n in tqdm(range(n_trials), desc=f'Size: {size}'):\n",
    "            game.set_size(size, 2)\n",
    "            strategy.reset()\n",
    "            play_strategy(strategy, game)\n",
    "            df, nc = game.get_metrics()\n",
    "            df['id'] = i*n_trials + n\n",
    "            dfs.append(df)\n",
    "            size_clicks.append(nc)\n",
    "        tot_clicks.append(size_clicks)\n",
    "    return pd.concat(dfs).reset_index(drop=True), tot_clicks"
   ]
  },
  {
   "cell_type": "code",
   "execution_count": null,
   "metadata": {},
   "outputs": [
    {
     "ename": "",
     "evalue": "",
     "output_type": "error",
     "traceback": [
      "\u001b[1;31mnotebook controller is DISPOSED. \n",
      "\u001b[1;31mView Jupyter <a href='command:jupyter.viewOutput'>log</a> for further details."
     ]
    }
   ],
   "source": [
    "def add_reaction_times_confidence(activation_history, df, size):\n",
    "    tiles_clicked = df['tile_clicked'].to_numpy()-1\n",
    "    indices = np.tile(np.repeat([False, True, False], steps), len(tiles_clicked) // 2)\n",
    "    history = activation_history[indices]\n",
    "    neuron = np.repeat(tiles_clicked[1::2], steps)\n",
    "    x = history[torch.arange(history.size(0)), neuron].view(-1, steps)\n",
    "    max_v, _ = torch.max(x, dim=1, keepdim=True)\n",
    "    means = torch.mean(history[:, :size], axis=1).numpy()\n",
    "    df['reaction_time'] = np.repeat(np.argmax(torch.abs(max_v - x) <= torch.abs(0.1*max_v), axis=1), 2)\n",
    "    df['confidence'] = np.repeat(torch.abs(max_v.flatten() - means[steps-1::steps]) / torch.max(torch.abs(max_v.flatten() - means[steps-1::steps])), 2) # TODO check if it changes if mean is without max neuron\n",
    "    return df\n",
    "# def add_reaction_times_confidence(activation_history, df, size):\n",
    "#     tiles_clicked = df['tile_clicked'].to_numpy()\n",
    "#     indices = np.tile(np.repeat([False, True, False], steps), len(tiles_clicked) // 2)\n",
    "#     history = activation_history[indices]\n",
    "#     neuron = np.repeat(tiles_clicked[1::2], steps)\n",
    "#     x = history[torch.arange(history.size(0)), neuron].view(-1, steps)\n",
    "#     max_v, _ = torch.max(x, dim=1, keepdim=True)\n",
    "#     means = torch.mean(history[:, :size], axis=1).numpy().reshape(-1, steps)\n",
    "#     df['reaction_time'] = np.repeat(np.argmax(torch.abs(max_v - x) <= torch.abs(0.1*max_v), axis=1), 2)\n",
    "#     df['confidence'] = np.repeat(torch.abs(torch.repeat_interleave(max_v, steps, dim=1) - means), 2, axis=0).tolist() # TODO check if it changes if mean is without max neuron\n",
    "#     return df"
   ]
  },
  {
   "cell_type": "code",
   "execution_count": null,
   "metadata": {},
   "outputs": [
    {
     "ename": "",
     "evalue": "",
     "output_type": "error",
     "traceback": [
      "\u001b[1;31mnotebook controller is DISPOSED. \n",
      "\u001b[1;31mView Jupyter <a href='command:jupyter.viewOutput'>log</a> for further details."
     ]
    }
   ],
   "source": [
    "def extract_energy(energy_history, df):\n",
    "    tiles_clicked = df['tile_clicked'].to_numpy()-1\n",
    "    indices = np.tile(np.repeat([True, False, False], steps), len(tiles_clicked) // 2)\n",
    "    energy = energy_history[indices].view(-1, steps)\n",
    "    max_v, _ = torch.max(energy, dim=1, keepdim=True)\n",
    "    min_v, _ = torch.min(energy, dim=1, keepdim=True)\n",
    "    df['max_energy'] = np.repeat((max_v.flatten() - min_v.flatten()) / -min_v.flatten(), 2)\n",
    "    return df\n",
    "# def extract_energy(energy_history, df):\n",
    "#     tiles_clicked = df['tile_clicked'].to_numpy()\n",
    "#     indices = np.tile(np.repeat([True, False, False], steps), len(tiles_clicked) // 2)\n",
    "#     energy = energy_history[indices].view(-1, steps)\n",
    "#     df['max_energy'] = np.repeat(energy, 2, axis=0).tolist()\n",
    "#     return df"
   ]
  },
  {
   "cell_type": "code",
   "execution_count": null,
   "metadata": {},
   "outputs": [
    {
     "ename": "",
     "evalue": "",
     "output_type": "error",
     "traceback": [
      "\u001b[1;31mnotebook controller is DISPOSED. \n",
      "\u001b[1;31mView Jupyter <a href='command:jupyter.viewOutput'>log</a> for further details."
     ]
    }
   ],
   "source": [
    "def collect_data_attractor(n_trials, size_range, game, lr, rr):\n",
    "    dfs = []\n",
    "    tot_clicks = []\n",
    "    for i, size in enumerate(size_range): \n",
    "        size_clicks = []\n",
    "        for n in tqdm(range(n_trials), desc=f'Size: {size}'):\n",
    "            game.set_size(size, 2)\n",
    "            dim = np.prod(size) + len(np.unique(game.get_grid_labels()))\n",
    "            memory = FastAttractor(dim, lr, rr)\n",
    "            strategy = FastAttractorMemory(game, memory, steps=steps)\n",
    "            play_strategy(strategy, game)\n",
    "            history = memory.get_activation_history()\n",
    "            df, nc = game.get_metrics()\n",
    "            df = add_reaction_times_confidence(history, df, np.prod(size))\n",
    "            energy_history = memory.get_energy_history()\n",
    "            df = extract_energy(energy_history, df)\n",
    "            df['id'] = i*n_trials + n\n",
    "            dfs.append(df)\n",
    "            size_clicks.append(nc)\n",
    "        tot_clicks.append(size_clicks)\n",
    "    return pd.concat(dfs).reset_index(drop=True), tot_clicks"
   ]
  },
  {
   "cell_type": "code",
   "execution_count": null,
   "metadata": {},
   "outputs": [
    {
     "ename": "",
     "evalue": "",
     "output_type": "error",
     "traceback": [
      "\u001b[1;31mnotebook controller is DISPOSED. \n",
      "\u001b[1;31mView Jupyter <a href='command:jupyter.viewOutput'>log</a> for further details."
     ]
    }
   ],
   "source": [
    "def get_second_click_df(df):\n",
    "    o_df = pd.DataFrame()\n",
    "    o_df['id'] = df['id'].to_numpy()[1::2]\n",
    "    o_df['match'] = df['match'].to_numpy()[1::2]\n",
    "    o_df['random_match'] = df['random_match'].to_numpy()[1::2]\n",
    "    o_df['board_size'] = df['board_size'].to_numpy()[1::2]\n",
    "    o_df['tile_clicked'] = df['tile_clicked'].to_numpy()[1::2]\n",
    "    o_df['nslc'] = df['nslc'].to_numpy()[1::2]\n",
    "    o_df['nslc_first'] = df['nslc'].to_numpy()[0::2]\n",
    "    o_df['nsp'] = df['nsp'].to_numpy()[1::2]\n",
    "    o_df['correct_tile'] = df['correct_tile'].to_numpy()[0::2]\n",
    "    # o_df['reaction_time'] = df['reaction_time'].to_numpy()[1::2]\n",
    "    # o_df['confidence'] = df['confidence'].to_numpy()[1::2]\n",
    "    # o_df['max_energy'] = df['max_energy'].to_numpy()[1::2]\n",
    "    return o_df"
   ]
  },
  {
   "cell_type": "code",
   "execution_count": null,
   "metadata": {},
   "outputs": [
    {
     "ename": "",
     "evalue": "",
     "output_type": "error",
     "traceback": [
      "\u001b[1;31mnotebook controller is DISPOSED. \n",
      "\u001b[1;31mView Jupyter <a href='command:jupyter.viewOutput'>log</a> for further details."
     ]
    }
   ],
   "source": [
    "def build_nc_df(nc, strategy):\n",
    "    data = []\n",
    "    for i, size in enumerate(size_range):\n",
    "        for j in range(n_trials):\n",
    "            data.append({'size': str(size[0]), 'nc': math.log10(nc[i][j]/np.prod(size))})\n",
    "    data = pd.DataFrame(data)\n",
    "    data['strategy'] = strategy\n",
    "    return data"
   ]
  },
  {
   "cell_type": "code",
   "execution_count": null,
   "metadata": {},
   "outputs": [
    {
     "ename": "",
     "evalue": "",
     "output_type": "error",
     "traceback": [
      "\u001b[1;31mnotebook controller is DISPOSED. \n",
      "\u001b[1;31mView Jupyter <a href='command:jupyter.viewOutput'>log</a> for further details."
     ]
    }
   ],
   "source": [
    "game = Game(\n",
    "            dataset_name='coco-2017', \n",
    "            split='validation', \n",
    "            field=\"ground_truth\", \n",
    "            ds_filter=F(\"supercategory\").is_in(('person', 'animal', 'food', 'vehicle', 'indoor')),\n",
    "            dataset_dir =\"/home/ravi/datasets/coco-2017\",\n",
    "        )"
   ]
  },
  {
   "attachments": {},
   "cell_type": "markdown",
   "metadata": {},
   "source": [
    "# Benchmarks"
   ]
  },
  {
   "cell_type": "code",
   "execution_count": null,
   "metadata": {},
   "outputs": [
    {
     "ename": "",
     "evalue": "",
     "output_type": "error",
     "traceback": [
      "\u001b[1;31mnotebook controller is DISPOSED. \n",
      "\u001b[1;31mView Jupyter <a href='command:jupyter.viewOutput'>log</a> for further details."
     ]
    }
   ],
   "source": [
    "bs = BaseStrategy(game)\n",
    "bs_df, bs_nc = collect_data(n_trials, size_range, bs, game)\n",
    "bs_df = get_second_click_df(bs_df)\n",
    "save_mat('random_memory_metrics.mat', bs_df)\n",
    "bs_nc_df = build_nc_df(bs_nc, 'Random Memory')\n",
    "bs_df['strategy'] = 'Random memory'"
   ]
  },
  {
   "cell_type": "code",
   "execution_count": null,
   "metadata": {},
   "outputs": [
    {
     "ename": "",
     "evalue": "",
     "output_type": "error",
     "traceback": [
      "\u001b[1;31mnotebook controller is DISPOSED. \n",
      "\u001b[1;31mView Jupyter <a href='command:jupyter.viewOutput'>log</a> for further details."
     ]
    }
   ],
   "source": [
    "pm = PerfectMemory(game)\n",
    "pm_df, pm_nc = collect_data(n_trials, size_range, pm, game)\n",
    "pm_df = get_second_click_df(pm_df)\n",
    "save_mat('perfect_memory_metrics.mat', pm_df)\n",
    "pm_nc_df = build_nc_df(pm_nc, 'Perfect Memory')\n",
    "pm_df['strategy'] = 'Perfect memory'"
   ]
  },
  {
   "attachments": {},
   "cell_type": "markdown",
   "metadata": {},
   "source": [
    "# Attractor"
   ]
  },
  {
   "cell_type": "code",
   "execution_count": null,
   "metadata": {},
   "outputs": [
    {
     "ename": "",
     "evalue": "",
     "output_type": "error",
     "traceback": [
      "\u001b[1;31mnotebook controller is DISPOSED. \n",
      "\u001b[1;31mView Jupyter <a href='command:jupyter.viewOutput'>log</a> for further details."
     ]
    }
   ],
   "source": [
    "att_df_double, att_nc = collect_data_attractor(n_trials, size_range, game, .7, .9)\n",
    "att_df = get_second_click_df(att_df_double)\n",
    "save_mat('model_metrics.mat', att_df)\n",
    "att_nc_df = build_nc_df(att_nc, 'Attractor Memory')\n",
    "att_df['strategy'] = 'Attractor Memory'"
   ]
  },
  {
   "attachments": {},
   "cell_type": "markdown",
   "metadata": {},
   "source": [
    "# Behavioral metrics"
   ]
  },
  {
   "cell_type": "code",
   "execution_count": null,
   "metadata": {},
   "outputs": [
    {
     "ename": "",
     "evalue": "",
     "output_type": "error",
     "traceback": [
      "\u001b[1;31mnotebook controller is DISPOSED. \n",
      "\u001b[1;31mView Jupyter <a href='command:jupyter.viewOutput'>log</a> for further details."
     ]
    }
   ],
   "source": [
    "df = att_df\n",
    "df['Trial'] = 'Mismatch'\n",
    "df.loc[df['match'] == 1, 'Trial'] = 'Match'\n",
    "df['board_size'] = df['board_size'].apply(np.sqrt)"
   ]
  },
  {
   "attachments": {},
   "cell_type": "markdown",
   "metadata": {},
   "source": [
    "## Reaction Time"
   ]
  },
  {
   "cell_type": "code",
   "execution_count": null,
   "metadata": {},
   "outputs": [
    {
     "ename": "",
     "evalue": "",
     "output_type": "error",
     "traceback": [
      "\u001b[1;31mnotebook controller is DISPOSED. \n",
      "\u001b[1;31mView Jupyter <a href='command:jupyter.viewOutput'>log</a> for further details."
     ]
    }
   ],
   "source": [
    "plt.figure(figsize=(8, 16)) # TODO check when the neuron converges\n",
    "palette = ['green', 'grey'] \n",
    "# Draw a nested barplot by species and sex\n",
    "ax = sns.catplot(x=\"board_size\", y=\"reaction_time\", hue='Trial', data=df, aspect=0.85, kind='bar', errorbar='se', palette=palette, hue_order=['Match', 'Mismatch'])\n",
    "ax.set(xlabel=\"Board size\", ylabel=\"reaction-time\")\n",
    "plt.show()"
   ]
  },
  {
   "attachments": {},
   "cell_type": "markdown",
   "metadata": {},
   "source": [
    "# Confidence"
   ]
  },
  {
   "cell_type": "code",
   "execution_count": null,
   "metadata": {},
   "outputs": [
    {
     "ename": "",
     "evalue": "",
     "output_type": "error",
     "traceback": [
      "\u001b[1;31mnotebook controller is DISPOSED. \n",
      "\u001b[1;31mView Jupyter <a href='command:jupyter.viewOutput'>log</a> for further details."
     ]
    }
   ],
   "source": [
    "plt.figure(figsize=(8, 16))\n",
    "palette = ['green', 'grey']\n",
    "# Draw a nested barplot by species and sex\n",
    "ax = sns.catplot(x=\"board_size\", y=\"confidence\", hue='Trial', data=df, aspect=0.85, kind='bar', errorbar='se', palette=palette, hue_order=['Match', 'Mismatch'])\n",
    "ax.set(xlabel=\"Board size\", ylabel=\"reaction-confidence\")\n",
    "plt.show()\n",
    "\n",
    "# b_grouped = df.groupby('board_size')\n",
    "# for board_size, b_group in b_grouped:\n",
    "#     palette = ['blue', 'yellow', 'orange']\n",
    "#     plt.figure(figsize=(16, 16))\n",
    "#     # ax = sns.lineplot(y=\"max_energy\", data=b_group, aspect=0.85, palette=palette)\n",
    "#     # ax.set(xlabel=\"Board size\", ylabel=\"surprise-response\")\n",
    "#     df_plot = b_group.explode('max_energy').reset_index(drop=True)\n",
    "#     df_plot['index'] = df_plot.index % 10\n",
    "#     sns.lineplot(data=df_plot, x='index', y='max_energy', hue='Trial')"
   ]
  },
  {
   "attachments": {},
   "cell_type": "markdown",
   "metadata": {},
   "source": [
    "# Surprise"
   ]
  },
  {
   "cell_type": "code",
   "execution_count": null,
   "metadata": {},
   "outputs": [
    {
     "ename": "",
     "evalue": "",
     "output_type": "error",
     "traceback": [
      "\u001b[1;31mnotebook controller is DISPOSED. \n",
      "\u001b[1;31mView Jupyter <a href='command:jupyter.viewOutput'>log</a> for further details."
     ]
    }
   ],
   "source": [
    "n_df = pd.DataFrame()\n",
    "n_df['nslc'] = att_df_double['nslc'].to_numpy()[0::2]\n",
    "n_df['max_energy'] = att_df_double['max_energy'].to_numpy()[0::2]\n",
    "n_df['board_size'] = att_df_double['board_size'].to_numpy()[0::2]\n",
    "\n",
    "nslc_first = n_df[n_df['nslc'] <= 0]\n",
    "nslc_first['Data'] = 'First-click'\n",
    "\n",
    "nslc_old = n_df[n_df['nslc'] > 1]\n",
    "nslc_old['Data'] = 'nslc>1'\n",
    "\n",
    "# nslc_older = n_df[n_df['nslc'] >= 5]\n",
    "# nslc_older['Data'] = 'nslc>5'\n",
    "\n",
    "nslc_recent = n_df[n_df['nslc'] == 1]\n",
    "nslc_recent['Data'] = 'nslc=1'\n",
    "\n",
    "nslc_df = pd.concat([nslc_first, nslc_old, nslc_recent])\n",
    "\n",
    "# b_grouped = nslc_df.groupby('board_size')\n",
    "# for board_size, b_group in b_grouped:\n",
    "#     palette = ['blue', 'yellow', 'orange']\n",
    "#     plt.figure(figsize=(16, 16))\n",
    "#     # ax = sns.lineplot(y=\"max_energy\", data=b_group, aspect=0.85, palette=palette)\n",
    "#     # ax.set(xlabel=\"Board size\", ylabel=\"surprise-response\")\n",
    "#     df_plot = b_group.explode('max_energy').reset_index(drop=True)\n",
    "#     df_plot['index'] = df_plot.index % 10\n",
    "#     sns.lineplot(data=df_plot, x='index', y='max_energy', hue='Data')\n",
    "\n",
    "b_grouped = nslc_df.groupby('board_size')\n",
    "for board_size, b_group in b_grouped:\n",
    "    palette = ['blue', 'yellow', 'orange']\n",
    "    plt.figure(figsize=(16, 16))\n",
    "    ax = sns.catplot(x=\"board_size\", y=\"max_energy\", hue='Data', data=b_group, aspect=0.85, kind='bar', palette=palette)\n",
    "    ax.set(xlabel=\"Board size\", ylabel=\"surprise-response\")\n",
    "    plt.show()\n",
    "\n",
    "# palette = ['blue', 'yellow', 'orange']\n",
    "# plt.figure(figsize=(16, 16))\n",
    "# ax = sns.catplot(x=\"board_size\", y=\"max_energy\", hue='Data', data=nslc_df, aspect=0.85, kind='bar', palette=palette)\n",
    "# ax.set(xlabel=\"Board size\", ylabel=\"surprise-response\")\n",
    "# plt.show()"
   ]
  },
  {
   "attachments": {},
   "cell_type": "markdown",
   "metadata": {},
   "source": [
    "## nsp"
   ]
  },
  {
   "cell_type": "code",
   "execution_count": null,
   "metadata": {},
   "outputs": [
    {
     "ename": "",
     "evalue": "",
     "output_type": "error",
     "traceback": [
      "\u001b[1;31mnotebook controller is DISPOSED. \n",
      "\u001b[1;31mView Jupyter <a href='command:jupyter.viewOutput'>log</a> for further details."
     ]
    }
   ],
   "source": [
    "plt.figure(figsize=(8, 16))\n",
    "palette = ['green', 'grey']\n",
    "# Draw a nested barplot by species and sex\n",
    "ax = sns.catplot(x=\"board_size\", y=\"nsp\", hue='Trial', data=df[df['nsp'] > 0], aspect=0.85, errorbar='se', kind='bar', palette=palette, hue_order=['Match', 'Mismatch'])\n",
    "ax.set(xlabel=\"Board size\", ylabel=\"n-since-pair\")\n",
    "plt.show()"
   ]
  },
  {
   "attachments": {},
   "cell_type": "markdown",
   "metadata": {},
   "source": [
    "## NSLC"
   ]
  },
  {
   "cell_type": "code",
   "execution_count": null,
   "metadata": {},
   "outputs": [
    {
     "ename": "",
     "evalue": "",
     "output_type": "error",
     "traceback": [
      "\u001b[1;31mnotebook controller is DISPOSED. \n",
      "\u001b[1;31mView Jupyter <a href='command:jupyter.viewOutput'>log</a> for further details."
     ]
    }
   ],
   "source": [
    "plt.figure(figsize=(8, 16))\n",
    "palette = ['green', 'grey']\n",
    "# Draw a nested barplot by species and sex\n",
    "ax = sns.catplot(x=\"board_size\", y=\"nslc\", hue='Trial', data=df[df['nslc'] > 0], aspect=0.85, errorbar='se', kind='bar', palette=palette, hue_order=['Match', 'Mismatch'])\n",
    "ax.set(xlabel=\"Board size\", ylabel=\"n-since-last-click\")\n",
    "plt.show()"
   ]
  },
  {
   "attachments": {},
   "cell_type": "markdown",
   "metadata": {},
   "source": [
    "## Tot clicks"
   ]
  },
  {
   "cell_type": "code",
   "execution_count": null,
   "metadata": {},
   "outputs": [
    {
     "ename": "",
     "evalue": "",
     "output_type": "error",
     "traceback": [
      "\u001b[1;31mnotebook controller is DISPOSED. \n",
      "\u001b[1;31mView Jupyter <a href='command:jupyter.viewOutput'>log</a> for further details."
     ]
    }
   ],
   "source": [
    "data = pd.concat([bs_nc_df, pm_nc_df, att_nc_df])\n",
    "plt.figure(figsize=(8, 16))\n",
    "palette = ['red', 'blue', 'plum']\n",
    "ax2 = sns.catplot(x=\"size\", y='nc', hue=\"strategy\", data=data, aspect=0.85, errorbar=None, kind='point', palette=palette)\n",
    "ax = sns.scatterplot(x=\"size\", y='nc', hue=\"strategy\", data=data, legend=False, palette=palette)\n",
    "ax.set_xlabel(\"Board size\")\n",
    "ax.set_ylabel(\"N clicks per tile (log10)\")\n",
    "sns.move_legend(ax2, \"upper center\")"
   ]
  },
  {
   "attachments": {},
   "cell_type": "markdown",
   "metadata": {},
   "source": [
    "# Memory history"
   ]
  },
  {
   "cell_type": "code",
   "execution_count": null,
   "metadata": {},
   "outputs": [
    {
     "ename": "",
     "evalue": "",
     "output_type": "error",
     "traceback": [
      "\u001b[1;31mnotebook controller is DISPOSED. \n",
      "\u001b[1;31mView Jupyter <a href='command:jupyter.viewOutput'>log</a> for further details."
     ]
    }
   ],
   "source": [
    "def plot_history(locations, category):\n",
    "    # create a 3 X 2 grid \n",
    "    fig = plt.figure(figsize=(24, 10))\n",
    "    gs = grd.GridSpec(3, 2, figure=fig, height_ratios=[len(locations),len(locations),len(category)], width_ratios=[18,1], wspace=0.4)\n",
    "    # image plot\n",
    "    ax1 = plt.subplot(gs[1,0])\n",
    "    p1 = ax1.imshow(locations, aspect='auto', interpolation='none', cmap='hot')\n",
    "    colorAx1 = plt.subplot(gs[1,1])\n",
    "    cb1 = plt.colorbar(p1, cax = colorAx1)\n",
    "    # image plot\n",
    "    ax2 = plt.subplot(gs[2,0])\n",
    "    p2 = ax2.imshow(category, aspect='auto', interpolation='none', cmap='hot')\n",
    "    colorAx2 = plt.subplot(gs[2,1])\n",
    "    cb2 = plt.colorbar(p2, cax = colorAx2)\n",
    "    \n",
    "    plt.show()"
   ]
  },
  {
   "cell_type": "code",
   "execution_count": null,
   "metadata": {},
   "outputs": [
    {
     "ename": "",
     "evalue": "",
     "output_type": "error",
     "traceback": [
      "\u001b[1;31mnotebook controller is DISPOSED. \n",
      "\u001b[1;31mView Jupyter <a href='command:jupyter.viewOutput'>log</a> for further details."
     ]
    }
   ],
   "source": [
    "size = [3,3]\n",
    "game.set_size(size, 2)\n",
    "pos_f = np.prod(size)\n",
    "lab_f = len(np.unique(game.get_grid_labels()))\n",
    "dim = pos_f + lab_f\n",
    "memory = FastAttractor(dim, lr=0.5, rr=0.95)\n",
    "strategy = FastAttractorMemory(game, memory, steps=steps)\n",
    "print(game.get_grid_labels())\n",
    "print(np.arange(9))\n",
    "tot = play_strategy(strategy, game)\n",
    "print(tot)\n",
    "ah = memory.get_activation_history()\n",
    "plot_history(ah[:, :pos_f].T, ah[:, pos_f:].T)"
   ]
  },
  {
   "cell_type": "code",
   "execution_count": null,
   "metadata": {},
   "outputs": [
    {
     "ename": "",
     "evalue": "",
     "output_type": "error",
     "traceback": [
      "\u001b[1;31mnotebook controller is DISPOSED. \n",
      "\u001b[1;31mView Jupyter <a href='command:jupyter.viewOutput'>log</a> for further details."
     ]
    }
   ],
   "source": [
    "plt.plot(memory.get_energy_history())"
   ]
  },
  {
   "cell_type": "code",
   "execution_count": null,
   "metadata": {},
   "outputs": [
    {
     "ename": "",
     "evalue": "",
     "output_type": "error",
     "traceback": [
      "\u001b[1;31mnotebook controller is DISPOSED. \n",
      "\u001b[1;31mView Jupyter <a href='command:jupyter.viewOutput'>log</a> for further details."
     ]
    }
   ],
   "source": [
    "df, tot_clicks = game.get_metrics()\n",
    "df['nslc'].to_numpy()\n",
    "events_dict = {'probe': 'blue', 'response': 'red', 'delay': 'pink', 'stimulus': 'green'}\n",
    "plot_history(f.T[:9], f.T[10:19], c, strategy.t_steps, strategy.events, events_dict)"
   ]
  }
 ],
 "metadata": {
  "kernelspec": {
   "display_name": "Python 3",
   "language": "python",
   "name": "python3"
  },
  "language_info": {
   "codemirror_mode": {
    "name": "ipython",
    "version": 3
   },
   "file_extension": ".py",
   "mimetype": "text/x-python",
   "name": "python",
   "nbconvert_exporter": "python",
   "pygments_lexer": "ipython3",
   "version": "3.9.16"
  },
  "orig_nbformat": 4
 },
 "nbformat": 4,
 "nbformat_minor": 2
}

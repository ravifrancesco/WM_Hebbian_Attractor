{
 "cells": [
  {
   "cell_type": "code",
   "execution_count": 86,
   "metadata": {},
   "outputs": [],
   "source": [
    "from game import Game\n",
    "\n",
    "from fiftyone import ViewField as F\n",
    "\n",
    "import torch\n",
    "\n",
    "import pandas as pd\n",
    "\n",
    "from memory import FastAttractor\n",
    "\n",
    "from strategies import FastAttractorMemory\n",
    "\n",
    "from tqdm import tqdm\n",
    "\n",
    "import math\n",
    "\n",
    "import numpy as np\n",
    "\n",
    "import matplotlib.pyplot as plt\n",
    "import seaborn as sns\n",
    "\n"
   ]
  },
  {
   "cell_type": "code",
   "execution_count": 87,
   "metadata": {},
   "outputs": [],
   "source": [
    "n_trials = 20\n",
    "\n",
    "size_range = [[3,3], [4,4], [5,5], [6,6], [7,7]]\n",
    "\n",
    "steps = 10"
   ]
  },
  {
   "cell_type": "code",
   "execution_count": 88,
   "metadata": {},
   "outputs": [
    {
     "name": "stdout",
     "output_type": "stream",
     "text": [
      "Downloading split 'validation' to '/home/ravi/datasets/coco-2017/validation' if necessary\n",
      "Found annotations at '/home/ravi/datasets/coco-2017/raw/instances_val2017.json'\n",
      "Images already downloaded\n",
      "Existing download of split 'validation' is sufficient\n",
      "Loading existing dataset 'coco-2017-validation'. To reload from disk, either delete the existing dataset or provide a custom `dataset_name` to use\n"
     ]
    }
   ],
   "source": [
    "game = Game(\n",
    "            dataset_name='coco-2017', \n",
    "            split='validation', \n",
    "            field=\"ground_truth\", \n",
    "            ds_filter=F(\"supercategory\").is_in(('person', 'animal', 'food', 'vehicle', 'indoor')),\n",
    "            dataset_dir =\"/home/ravi/datasets/coco-2017\",\n",
    "        )"
   ]
  },
  {
   "cell_type": "code",
   "execution_count": 81,
   "metadata": {},
   "outputs": [],
   "source": [
    "def play_strategy(strategy, game, max_steps=500):\n",
    "    win = False\n",
    "    steps = 0\n",
    "    while not win and steps < max_steps:\n",
    "        strategy.pick()\n",
    "        win = game.check_win()\n",
    "        torch.cuda.empty_cache()\n",
    "        steps+=1\n"
   ]
  },
  {
   "cell_type": "code",
   "execution_count": 89,
   "metadata": {},
   "outputs": [],
   "source": [
    "def collect_data_attractor(n_trials, size_range, game, lr, rr, familiar=False):\n",
    "    dfs = []\n",
    "    tot_clicks = []\n",
    "    for size in size_range:\n",
    "        size_clicks = []\n",
    "        for n in tqdm(range(n_trials), desc=f'Size: {size}'):\n",
    "            game.set_size(size, 2)\n",
    "            dim = np.prod(size) + len(np.unique(game.get_grid_labels()))\n",
    "            # dim = 74\n",
    "            memory = FastAttractor(dim, lr, rr)\n",
    "            strategy = FastAttractorMemory(game, memory, np.prod(size), familiar=familiar, steps=10)\n",
    "            play_strategy(strategy, game)\n",
    "            df, nc = game.get_metrics()\n",
    "            dfs.append(df)\n",
    "            size_clicks.append(nc)\n",
    "        tot_clicks.append(size_clicks)\n",
    "    return pd.concat(dfs).reset_index(drop=True), tot_clicks"
   ]
  },
  {
   "cell_type": "code",
   "execution_count": 90,
   "metadata": {},
   "outputs": [
    {
     "name": "stderr",
     "output_type": "stream",
     "text": [
      "Size: [3, 3]: 100%|██████████| 20/20 [00:12<00:00,  1.60it/s]\n",
      "Size: [4, 4]: 100%|██████████| 20/20 [00:06<00:00,  2.98it/s]\n",
      "Size: [5, 5]: 100%|██████████| 20/20 [00:06<00:00,  3.25it/s]\n",
      "Size: [6, 6]: 100%|██████████| 20/20 [00:08<00:00,  2.31it/s]\n",
      "Size: [7, 7]: 100%|██████████| 20/20 [00:11<00:00,  1.76it/s]\n"
     ]
    }
   ],
   "source": [
    "att_df, tot_clicks = collect_data_attractor(n_trials, size_range, game, lr=0.29, rr=0.995, familiar=False)"
   ]
  },
  {
   "cell_type": "code",
   "execution_count": 91,
   "metadata": {},
   "outputs": [],
   "source": [
    "def plot_error_distance(df):\n",
    "    df = df[df.index % 2 == 0]\n",
    "    df = df[df['nslc'] != -1]\n",
    "    plt.figure(figsize=(8, 16))\n",
    "    palette = ['green', 'grey']\n",
    "    ax = sns.catplot(x=\"board_size\", y=\"nslc\", hue='match', data=df, kind='bar', palette=palette)\n",
    "    ax.set(xlabel=\"Board size\", ylabel=\"nslc\")\n",
    "    plt.show()"
   ]
  },
  {
   "cell_type": "code",
   "execution_count": 92,
   "metadata": {},
   "outputs": [
    {
     "data": {
      "text/plain": [
       "<Figure size 800x1600 with 0 Axes>"
      ]
     },
     "metadata": {},
     "output_type": "display_data"
    },
    {
     "data": {
      "image/png": "[encoded data removed]",
      "text/plain": [
       "<Figure size 558.875x500 with 1 Axes>"
      ]
     },
     "metadata": {},
     "output_type": "display_data"
    }
   ],
   "source": [
    "plot_error_distance(att_df)"
   ]
  },
  {
   "cell_type": "code",
   "execution_count": 93,
   "metadata": {},
   "outputs": [
    {
     "data": {
      "text/html": [
       "<div>\n",
       "<style scoped>\n",
       "    .dataframe tbody tr th:only-of-type {\n",
       "        vertical-align: middle;\n",
       "    }\n",
       "\n",
       "    .dataframe tbody tr th {\n",
       "        vertical-align: top;\n",
       "    }\n",
       "\n",
       "    .dataframe thead th {\n",
       "        text-align: right;\n",
       "    }\n",
       "</style>\n",
       "<table border=\"1\" class=\"dataframe\">\n",
       "  <thead>\n",
       "    <tr style=\"text-align: right;\">\n",
       "      <th></th>\n",
       "      <th>match</th>\n",
       "      <th>tile_clicked</th>\n",
       "      <th>nslc</th>\n",
       "      <th>nslp</th>\n",
       "      <th>correct_tile</th>\n",
       "    </tr>\n",
       "    <tr>\n",
       "      <th>board_size</th>\n",
       "      <th></th>\n",
       "      <th></th>\n",
       "      <th></th>\n",
       "      <th></th>\n",
       "      <th></th>\n",
       "    </tr>\n",
       "  </thead>\n",
       "  <tbody>\n",
       "    <tr>\n",
       "      <th>9</th>\n",
       "      <td>1.0</td>\n",
       "      <td>3.852459</td>\n",
       "      <td>4.754098</td>\n",
       "      <td>1.368852</td>\n",
       "      <td>3.713115</td>\n",
       "    </tr>\n",
       "    <tr>\n",
       "      <th>16</th>\n",
       "      <td>1.0</td>\n",
       "      <td>7.500000</td>\n",
       "      <td>8.906250</td>\n",
       "      <td>2.653125</td>\n",
       "      <td>7.006250</td>\n",
       "    </tr>\n",
       "    <tr>\n",
       "      <th>25</th>\n",
       "      <td>1.0</td>\n",
       "      <td>11.977083</td>\n",
       "      <td>9.570833</td>\n",
       "      <td>5.741667</td>\n",
       "      <td>11.006250</td>\n",
       "    </tr>\n",
       "    <tr>\n",
       "      <th>36</th>\n",
       "      <td>1.0</td>\n",
       "      <td>17.500000</td>\n",
       "      <td>12.281944</td>\n",
       "      <td>8.041667</td>\n",
       "      <td>16.168056</td>\n",
       "    </tr>\n",
       "    <tr>\n",
       "      <th>49</th>\n",
       "      <td>1.0</td>\n",
       "      <td>23.994792</td>\n",
       "      <td>18.641667</td>\n",
       "      <td>11.681250</td>\n",
       "      <td>22.683333</td>\n",
       "    </tr>\n",
       "  </tbody>\n",
       "</table>\n",
       "</div>"
      ],
      "text/plain": [
       "            match  tile_clicked       nslc       nslp  correct_tile\n",
       "board_size                                                         \n",
       "9             1.0      3.852459   4.754098   1.368852      3.713115\n",
       "16            1.0      7.500000   8.906250   2.653125      7.006250\n",
       "25            1.0     11.977083   9.570833   5.741667     11.006250\n",
       "36            1.0     17.500000  12.281944   8.041667     16.168056\n",
       "49            1.0     23.994792  18.641667  11.681250     22.683333"
      ]
     },
     "execution_count": 93,
     "metadata": {},
     "output_type": "execute_result"
    }
   ],
   "source": [
    "m_means = pd.DataFrame(att_df[att_df['match']==1]).groupby('board_size')\n",
    "m_means.mean()"
   ]
  },
  {
   "cell_type": "code",
   "execution_count": 96,
   "metadata": {},
   "outputs": [
    {
     "data": {
      "text/plain": [
       "array([4.45842256, 6.97535211, 3.01648352, 3.7300885 , 5.11642412])"
      ]
     },
     "execution_count": 96,
     "metadata": {},
     "output_type": "execute_result"
    }
   ],
   "source": [
    "mm_means = pd.DataFrame(att_df[att_df['match']==0]).groupby('board_size')\n",
    "mm_means.mean()['nslc'].to_numpy()"
   ]
  },
  {
   "cell_type": "code",
   "execution_count": 97,
   "metadata": {},
   "outputs": [],
   "source": [
    "arr= np.array(tot_clicks)"
   ]
  },
  {
   "cell_type": "code",
   "execution_count": 100,
   "metadata": {},
   "outputs": [
    {
     "data": {
      "text/plain": [
       "(5,)"
      ]
     },
     "execution_count": 100,
     "metadata": {},
     "output_type": "execute_result"
    }
   ],
   "source": [
    "np.mean(arr, axis=1).shape"
   ]
  }
 ],
 "metadata": {
  "kernelspec": {
   "display_name": "torch",
   "language": "python",
   "name": "python3"
  },
  "language_info": {
   "codemirror_mode": {
    "name": "ipython",
    "version": 3
   },
   "file_extension": ".py",
   "mimetype": "text/x-python",
   "name": "python",
   "nbconvert_exporter": "python",
   "pygments_lexer": "ipython3",
   "version": "3.9.16"
  },
  "orig_nbformat": 4
 },
 "nbformat": 4,
 "nbformat_minor": 2
}

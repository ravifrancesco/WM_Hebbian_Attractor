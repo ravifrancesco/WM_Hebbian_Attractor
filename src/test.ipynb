{
 "cells": [
  {
   "cell_type": "code",
   "execution_count": 1,
   "metadata": {},
   "outputs": [],
   "source": [
    "from game import Game\n",
    "\n",
    "from fiftyone import ViewField as F\n",
    "\n",
    "import torch\n",
    "\n",
    "import pandas as pd\n",
    "\n",
    "from memory import PottsAttractor\n",
    "\n",
    "from strategies import PottsAttractorMemory\n",
    "\n",
    "from tqdm import tqdm\n",
    "\n",
    "import math\n",
    "\n",
    "import numpy as np\n",
    "\n",
    "import matplotlib.pyplot as plt\n",
    "import seaborn as sns\n",
    "\n"
   ]
  },
  {
   "cell_type": "code",
   "execution_count": 2,
   "metadata": {},
   "outputs": [],
   "source": [
    "n_trials = 5\n",
    "\n",
    "size_range = [[3,3]] #, [4,4], [5,5], [6,6], [7,7]]\n",
    "\n",
    "steps = 10"
   ]
  },
  {
   "cell_type": "code",
   "execution_count": 3,
   "metadata": {},
   "outputs": [
    {
     "name": "stdout",
     "output_type": "stream",
     "text": [
      "Downloading split 'validation' to '/home/ravi/datasets/coco-2017/validation' if necessary\n",
      "Found annotations at '/home/ravi/datasets/coco-2017/raw/instances_val2017.json'\n",
      "Images already downloaded\n",
      "Existing download of split 'validation' is sufficient\n",
      "Loading existing dataset 'coco-2017-validation'. To reload from disk, either delete the existing dataset or provide a custom `dataset_name` to use\n"
     ]
    }
   ],
   "source": [
    "game = Game(\n",
    "            dataset_name='coco-2017', \n",
    "            split='validation', \n",
    "            field=\"ground_truth\", \n",
    "            ds_filter=F(\"supercategory\").is_in(('person', 'animal', 'food', 'vehicle', 'indoor')),\n",
    "            dataset_dir =\"/home/ravi/datasets/coco-2017\",\n",
    "        )"
   ]
  },
  {
   "cell_type": "code",
   "execution_count": 4,
   "metadata": {},
   "outputs": [],
   "source": [
    "def play_strategy(strategy, game, max_steps=500):\n",
    "    win = False\n",
    "    steps = 0\n",
    "    while not win and steps < max_steps:\n",
    "        strategy.pick()\n",
    "        win = game.check_win()\n",
    "        torch.cuda.empty_cache()\n",
    "        steps+=1\n"
   ]
  },
  {
   "cell_type": "code",
   "execution_count": 5,
   "metadata": {},
   "outputs": [],
   "source": [
    "memory = PottsAttractor(12, 10, ga=97., gw=2., gwr=1.7, gb=12., gs=0., k=1.1)"
   ]
  },
  {
   "cell_type": "code",
   "execution_count": 6,
   "metadata": {},
   "outputs": [
    {
     "name": "stdout",
     "output_type": "stream",
     "text": [
      "cuda\n"
     ]
    }
   ],
   "source": [
    "device = torch.device('cuda' if torch.cuda.is_available() else 'cpu')\n",
    "print(device)\n",
    "strategy = PottsAttractorMemory(game, memory, device=device)"
   ]
  },
  {
   "cell_type": "code",
   "execution_count": 7,
   "metadata": {},
   "outputs": [],
   "source": [
    "def collect_data_attractor(n_trials, size_range, game, lr, rr, familiar=False):\n",
    "    dfs = []\n",
    "    tot_clicks = []\n",
    "    for size in size_range:\n",
    "        size_clicks = []\n",
    "        for n in tqdm(range(n_trials), desc=f'Size: {size}'):\n",
    "            game.set_size(size, 2)\n",
    "            dim = np.prod(size) + len(np.unique(game.get_grid_labels()))\n",
    "            # dim = 74\n",
    "            memory = PottsAttractor(12, 10, ga=97., gw=2., gwr=1.7, gb=12., gs=0., k=1.1)\n",
    "            strategy = PottsAttractorMemory(game, memory)\n",
    "            play_strategy(strategy, game)\n",
    "            df, nc = game.get_metrics()\n",
    "            dfs.append(df)\n",
    "            size_clicks.append(nc)\n",
    "        tot_clicks.append(size_clicks)\n",
    "    return pd.concat(dfs).reset_index(drop=True), tot_clicks"
   ]
  },
  {
   "cell_type": "code",
   "execution_count": 8,
   "metadata": {},
   "outputs": [
    {
     "name": "stderr",
     "output_type": "stream",
     "text": [
      "Size: [3, 3]: 100%|██████████| 5/5 [01:58<00:00, 23.67s/it]\n"
     ]
    }
   ],
   "source": [
    "att_df, tot_clicks = collect_data_attractor(n_trials, size_range, game, lr=0.29, rr=0.995, familiar=False)"
   ]
  },
  {
   "cell_type": "code",
   "execution_count": 9,
   "metadata": {},
   "outputs": [],
   "source": [
    "def plot_error_distance(df):\n",
    "    df = df[df.index % 2 == 0]\n",
    "    df = df[df['nslc'] != -1]\n",
    "    plt.figure(figsize=(8, 16))\n",
    "    palette = ['green', 'grey']\n",
    "    ax = sns.catplot(x=\"board_size\", y=\"nslc\", hue='match', data=df, kind='bar', palette=palette)\n",
    "    ax.set(xlabel=\"Board size\", ylabel=\"nslc\")\n",
    "    plt.show()"
   ]
  },
  {
   "cell_type": "code",
   "execution_count": 10,
   "metadata": {},
   "outputs": [
    {
     "data": {
      "text/plain": [
       "0.6740462210547719"
      ]
     },
     "execution_count": 10,
     "metadata": {},
     "output_type": "execute_result"
    }
   ],
   "source": [
    "np.mean(np.log10(np.array(tot_clicks[0]) / 9))"
   ]
  },
  {
   "cell_type": "code",
   "execution_count": 11,
   "metadata": {},
   "outputs": [
    {
     "data": {
      "text/plain": [
       "<Figure size 800x1600 with 0 Axes>"
      ]
     },
     "metadata": {},
     "output_type": "display_data"
    },
    {
     "data": {
      "image/png": "[encoded data removed]",
      "text/plain": [
       "<Figure size 558.875x500 with 1 Axes>"
      ]
     },
     "metadata": {},
     "output_type": "display_data"
    }
   ],
   "source": [
    "plot_error_distance(att_df)"
   ]
  },
  {
   "cell_type": "code",
   "execution_count": 12,
   "metadata": {},
   "outputs": [
    {
     "data": {
      "text/html": [
       "<div>\n",
       "<style scoped>\n",
       "    .dataframe tbody tr th:only-of-type {\n",
       "        vertical-align: middle;\n",
       "    }\n",
       "\n",
       "    .dataframe tbody tr th {\n",
       "        vertical-align: top;\n",
       "    }\n",
       "\n",
       "    .dataframe thead th {\n",
       "        text-align: right;\n",
       "    }\n",
       "</style>\n",
       "<table border=\"1\" class=\"dataframe\">\n",
       "  <thead>\n",
       "    <tr style=\"text-align: right;\">\n",
       "      <th></th>\n",
       "      <th>match</th>\n",
       "      <th>random_match</th>\n",
       "      <th>tile_clicked</th>\n",
       "      <th>nslc</th>\n",
       "      <th>nsp</th>\n",
       "      <th>correct_tile</th>\n",
       "    </tr>\n",
       "    <tr>\n",
       "      <th>board_size</th>\n",
       "      <th></th>\n",
       "      <th></th>\n",
       "      <th></th>\n",
       "      <th></th>\n",
       "      <th></th>\n",
       "      <th></th>\n",
       "    </tr>\n",
       "  </thead>\n",
       "  <tbody>\n",
       "    <tr>\n",
       "      <th>9</th>\n",
       "      <td>1.0</td>\n",
       "      <td>0.05</td>\n",
       "      <td>3.85</td>\n",
       "      <td>3.3</td>\n",
       "      <td>2.625</td>\n",
       "      <td>3.75</td>\n",
       "    </tr>\n",
       "  </tbody>\n",
       "</table>\n",
       "</div>"
      ],
      "text/plain": [
       "            match  random_match  tile_clicked  nslc   nsp  correct_tile\n",
       "board_size                                                              \n",
       "9             1.0          0.05          3.85   3.3  2.625          3.75"
      ]
     },
     "execution_count": 12,
     "metadata": {},
     "output_type": "execute_result"
    }
   ],
   "source": [
    "m_means = pd.DataFrame(att_df[att_df['match']==1]).groupby('board_size')\n",
    "m_means.mean()"
   ]
  },
  {
   "cell_type": "code",
   "execution_count": 13,
   "metadata": {},
   "outputs": [
    {
     "data": {
      "text/plain": [
       "array([3.64])"
      ]
     },
     "execution_count": 13,
     "metadata": {},
     "output_type": "execute_result"
    }
   ],
   "source": [
    "mm_means = pd.DataFrame(att_df[att_df['match']==0]).groupby('board_size')\n",
    "mm_means.mean()['nslc'].to_numpy()"
   ]
  },
  {
   "cell_type": "code",
   "execution_count": 14,
   "metadata": {},
   "outputs": [],
   "source": [
    "arr= np.array(tot_clicks)"
   ]
  },
  {
   "cell_type": "code",
   "execution_count": 15,
   "metadata": {},
   "outputs": [
    {
     "data": {
      "text/plain": [
       "(1,)"
      ]
     },
     "execution_count": 15,
     "metadata": {},
     "output_type": "execute_result"
    }
   ],
   "source": [
    "np.mean(arr, axis=1).shape"
   ]
  }
 ],
 "metadata": {
  "kernelspec": {
   "display_name": "Python 3",
   "language": "python",
   "name": "python3"
  },
  "language_info": {
   "codemirror_mode": {
    "name": "ipython",
    "version": 3
   },
   "file_extension": ".py",
   "mimetype": "text/x-python",
   "name": "python",
   "nbconvert_exporter": "python",
   "pygments_lexer": "ipython3",
   "version": "3.9.16"
  },
  "orig_nbformat": 4
 },
 "nbformat": 4,
 "nbformat_minor": 2
}

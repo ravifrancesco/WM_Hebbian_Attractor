{
 "cells": [
  {
   "cell_type": "code",
   "execution_count": 152,
   "metadata": {},
   "outputs": [],
   "source": [
    "import scipy.io\n",
    "from scipy.stats import ks_2samp,spearmanr\n",
    "\n",
    "from sklearn.metrics import r2_score\n",
    "\n",
    "import pandas as pd\n",
    "\n",
    "import seaborn as sns\n",
    "import matplotlib.pyplot as plt\n",
    "\n",
    "import numpy as np\n",
    "\n",
    "from game import Game\n",
    "from strategies import BaseStrategy\n",
    "\n",
    "import torch\n",
    "from tqdm import tqdm\n",
    "\n",
    "from fiftyone import ViewField as F\n",
    "\n",
    "import math"
   ]
  },
  {
   "attachments": {},
   "cell_type": "markdown",
   "metadata": {},
   "source": [
    "# Functions"
   ]
  },
  {
   "cell_type": "code",
   "execution_count": 153,
   "metadata": {},
   "outputs": [],
   "source": [
    "def build_inner_indices(size):\n",
    "    size = int(np.sqrt(size))\n",
    "    indices = []\n",
    "    for i in range(1, size-1):\n",
    "        for j in range(1, size-1):\n",
    "            indices.append(np.ravel_multi_index((i, j), (size, size)))\n",
    "    return indices\n"
   ]
  },
  {
   "cell_type": "code",
   "execution_count": 155,
   "metadata": {},
   "outputs": [],
   "source": [
    "def compute_p_values(b_df, r_df, metric, match=0, filter_in=False):\n",
    "    b_df = b_df[b_df['match'] == match]\n",
    "    b_df = b_df[b_df['random_match'] == 0]\n",
    "    r_df = r_df[r_df['match'] == match]\n",
    "    r_df = r_df[r_df['random_match'] == 0]\n",
    "    b_grouped = b_df.groupby('board_size')\n",
    "    r_grouped = r_df.groupby('board_size')\n",
    "    for (b_bs, b_group), (r_bs, r_group) in zip(b_grouped, r_grouped):\n",
    "        if filter_in:\n",
    "            b_group = b_group[b_group['tile_clicked'].isin(build_inner_indices(b_bs))]\n",
    "            r_group = r_group[r_group['tile_clicked'].isin(build_inner_indices(r_bs))]\n",
    "        b_array = b_group[metric].to_numpy()\n",
    "        r_array = r_group[metric].to_numpy()\n",
    "        statistic, p_value = ks_2samp(b_array, r_array)\n",
    "        print(f'---- Board Size: {b_bs} ----')\n",
    "        print(f'Ratio b/m: {len(b_array) / len(r_array)}')\n",
    "        print(\"KS statistic:\", statistic)\n",
    "        print(\"p-value:\", p_value)\n",
    "        print('\\n')"
   ]
  },
  {
   "cell_type": "code",
   "execution_count": 156,
   "metadata": {},
   "outputs": [],
   "source": [
    "def euclidean_distance(row):\n",
    "    N = int(np.sqrt(row['board_size']))\n",
    "    # Convert 1D indices to 2D coordinates\n",
    "    x1, y1 = np.unravel_index(row['tile_clicked'], (N, N))\n",
    "    x2, y2 = np.unravel_index(row['correct_tile'], (N, N))\n",
    "    \n",
    "    # Compute Euclidean distance\n",
    "    distance = np.sqrt((x2 - x1)**2 + (y2 - y1)**2)\n",
    "    \n",
    "    return distance"
   ]
  },
  {
   "cell_type": "code",
   "execution_count": 157,
   "metadata": {},
   "outputs": [],
   "source": [
    "def add_distances(df):\n",
    "    df = df[df['correct_tile'] >= 0]\n",
    "    df['distance'] = df.apply(euclidean_distance, axis=1)\n",
    "    return df"
   ]
  },
  {
   "attachments": {},
   "cell_type": "markdown",
   "metadata": {},
   "source": [
    "# Get behavioural DF"
   ]
  },
  {
   "cell_type": "code",
   "execution_count": 158,
   "metadata": {},
   "outputs": [],
   "source": [
    "PATH = '/home/ravi/Models-of-Working-Memory/b_data/matlab_code/P00_data_behavior'"
   ]
  },
  {
   "cell_type": "code",
   "execution_count": 159,
   "metadata": {},
   "outputs": [],
   "source": [
    "pat = scipy.io.loadmat(f'{PATH}/b_data_subject_1')"
   ]
  },
  {
   "cell_type": "code",
   "execution_count": 160,
   "metadata": {},
   "outputs": [],
   "source": [
    "def build_tile_df(N=20):\n",
    "    dfs = []\n",
    "    for i in range(N):\n",
    "        pat = scipy.io.loadmat(f'{PATH}/b_data_subject_{i+1}')\n",
    "        pat = pat['b_data'][0]\n",
    "        match = pat[0][1].flatten()\n",
    "        random_match = pat[1][1].flatten()\n",
    "        tile_clicked = pat[11][1].flatten()[1::2]\n",
    "        board_size = pat[6][1].flatten()[1::2]\n",
    "        correct_tile = pat[12][1].flatten()[0::2]\n",
    "        nslc = pat[3][1].flatten()[1::2]\n",
    "        nsp = pat[2][1].flatten()[1::2]\n",
    "        \n",
    "        categories = {0: 'z', 1: 'animal', 2: 'food', 3: 'indoor', 4: 'person', 5: 'vehicle'}        \n",
    "        img_category = pat[10][1].flatten()\n",
    "        img_category = np.vectorize(categories.get)(img_category)\n",
    "\n",
    "        dfs.append(pd.DataFrame({\n",
    "            'match': match,\n",
    "            'random_match': random_match,\n",
    "            'tile_clicked': tile_clicked-1,\n",
    "            'board_size': board_size,\n",
    "            'correct_tile': correct_tile-1,\n",
    "            'clicked_category': img_category[1::2],\n",
    "            'corr_category': img_category[0::2],\n",
    "            'nslc': nslc,\n",
    "            'nsp': nsp,\n",
    "            'patient': i+1,\n",
    "        }))\n",
    "    return pd.concat(dfs).reset_index(drop=True)"
   ]
  },
  {
   "cell_type": "code",
   "execution_count": 161,
   "metadata": {},
   "outputs": [
    {
     "name": "stderr",
     "output_type": "stream",
     "text": [
      "/tmp/ipykernel_4036179/1637944754.py:3: SettingWithCopyWarning: \n",
      "A value is trying to be set on a copy of a slice from a DataFrame.\n",
      "Try using .loc[row_indexer,col_indexer] = value instead\n",
      "\n",
      "See the caveats in the documentation: https://pandas.pydata.org/pandas-docs/stable/user_guide/indexing.html#returning-a-view-versus-a-copy\n",
      "  df['distance'] = df.apply(euclidean_distance, axis=1)\n"
     ]
    }
   ],
   "source": [
    "b_df = build_tile_df()\n",
    "b_df = add_distances(b_df)\n",
    "pd.set_option('display.max_rows', None)\n",
    "# b_df[8:100].reset_index(drop=True)[1:]"
   ]
  },
  {
   "attachments": {},
   "cell_type": "markdown",
   "metadata": {},
   "source": [
    "# Get random model DF"
   ]
  },
  {
   "cell_type": "code",
   "execution_count": 162,
   "metadata": {},
   "outputs": [],
   "source": [
    "n_trials = 20\n",
    "\n",
    "size_range = [[3,3], [4,4], [5,5], [6,6], [7,7]]"
   ]
  },
  {
   "cell_type": "code",
   "execution_count": 163,
   "metadata": {},
   "outputs": [],
   "source": [
    "def get_second_click_df(df):\n",
    "    o_df = pd.DataFrame()\n",
    "    o_df['match'] = df['match'].to_numpy()[1::2]\n",
    "    o_df['random_match'] = df['random_match'].to_numpy()[1::2]\n",
    "    o_df['board_size'] = df['board_size'].to_numpy()[1::2]\n",
    "    o_df['tile_clicked'] = df['tile_clicked'].to_numpy()[1::2]\n",
    "    o_df['nslc'] = df['nslc'].to_numpy()[1::2]\n",
    "    o_df['nsp'] = df['nsp'].to_numpy()[1::2]\n",
    "    o_df['correct_tile'] = df['correct_tile'].to_numpy()[0::2]\n",
    "    return o_df"
   ]
  },
  {
   "cell_type": "code",
   "execution_count": 164,
   "metadata": {},
   "outputs": [],
   "source": [
    "def play_strategy(strategy, game):\n",
    "    win = False\n",
    "    while not win:\n",
    "        strategy.pick()\n",
    "        win = game.check_win()\n",
    "        torch.cuda.empty_cache()"
   ]
  },
  {
   "cell_type": "code",
   "execution_count": 165,
   "metadata": {},
   "outputs": [],
   "source": [
    "def collect_data(n_trials, size_range, game):\n",
    "    dfs = []\n",
    "    tot_clicks = []\n",
    "    for size in size_range:\n",
    "        size_clicks = []\n",
    "        for n in tqdm(range(n_trials), desc=f'Size: {size}'):\n",
    "            game.set_size(size, 2)\n",
    "            dim = np.prod(size) + len(np.unique(game.get_grid_labels()))\n",
    "            # dim = 74\n",
    "            strategy = BaseStrategy(game)\n",
    "            play_strategy(strategy, game)\n",
    "            df, nc = game.get_metrics()\n",
    "            dfs.append(df)\n",
    "            size_clicks.append(nc)\n",
    "        tot_clicks.append(size_clicks)\n",
    "    return pd.concat(dfs).reset_index(drop=True), tot_clicks"
   ]
  },
  {
   "cell_type": "code",
   "execution_count": 166,
   "metadata": {},
   "outputs": [
    {
     "name": "stdout",
     "output_type": "stream",
     "text": [
      "Downloading split 'validation' to '/home/ravi/datasets/coco-2017/validation' if necessary\n",
      "Found annotations at '/home/ravi/datasets/coco-2017/raw/instances_val2017.json'\n",
      "Images already downloaded\n",
      "Existing download of split 'validation' is sufficient\n",
      "Loading existing dataset 'coco-2017-validation'. To reload from disk, either delete the existing dataset or provide a custom `dataset_name` to use\n"
     ]
    }
   ],
   "source": [
    "game = Game(\n",
    "            dataset_name='coco-2017', \n",
    "            split='validation', \n",
    "            field=\"ground_truth\", \n",
    "            ds_filter=F(\"supercategory\").is_in(('person', 'animal', 'food', 'vehicle', 'indoor')),\n",
    "            dataset_dir =\"/home/ravi/datasets/coco-2017\",\n",
    "        )"
   ]
  },
  {
   "cell_type": "code",
   "execution_count": 167,
   "metadata": {},
   "outputs": [
    {
     "name": "stderr",
     "output_type": "stream",
     "text": [
      "Size: [3, 3]: 100%|██████████| 20/20 [00:02<00:00,  9.29it/s]\n",
      "Size: [4, 4]: 100%|██████████| 20/20 [00:02<00:00,  6.88it/s]\n",
      "Size: [5, 5]: 100%|██████████| 20/20 [00:04<00:00,  4.95it/s]\n",
      "Size: [6, 6]: 100%|██████████| 20/20 [00:05<00:00,  3.44it/s]\n",
      "Size: [7, 7]: 100%|██████████| 20/20 [00:08<00:00,  2.49it/s]\n",
      "/tmp/ipykernel_4036179/1637944754.py:3: SettingWithCopyWarning: \n",
      "A value is trying to be set on a copy of a slice from a DataFrame.\n",
      "Try using .loc[row_indexer,col_indexer] = value instead\n",
      "\n",
      "See the caveats in the documentation: https://pandas.pydata.org/pandas-docs/stable/user_guide/indexing.html#returning-a-view-versus-a-copy\n",
      "  df['distance'] = df.apply(euclidean_distance, axis=1)\n"
     ]
    }
   ],
   "source": [
    "t_df, _ = collect_data(n_trials, size_range, game)\n",
    "r_df = get_second_click_df(t_df)\n",
    "r_df = add_distances(r_df)"
   ]
  },
  {
   "attachments": {},
   "cell_type": "markdown",
   "metadata": {},
   "source": [
    "# P-vals"
   ]
  },
  {
   "cell_type": "code",
   "execution_count": 168,
   "metadata": {},
   "outputs": [
    {
     "name": "stdout",
     "output_type": "stream",
     "text": [
      "---- Board Size: 9 ----\n",
      "Ratio b/m: 0.2601626016260163\n",
      "KS statistic: 0.08460365853658537\n",
      "p-value: 0.983852559677169\n",
      "\n",
      "\n",
      "---- Board Size: 16 ----\n",
      "Ratio b/m: 0.14228456913827656\n",
      "KS statistic: 0.10069434643935758\n",
      "p-value: 0.14896282348996134\n",
      "\n",
      "\n",
      "---- Board Size: 25 ----\n",
      "Ratio b/m: 0.20191055145462442\n",
      "KS statistic: 0.06988920482400235\n",
      "p-value: 0.04321752447213955\n",
      "\n",
      "\n",
      "---- Board Size: 36 ----\n",
      "Ratio b/m: 0.13022151898734177\n",
      "KS statistic: 0.04167217804574188\n",
      "p-value: 0.15454920112572118\n",
      "\n",
      "\n",
      "---- Board Size: 49 ----\n",
      "Ratio b/m: 0.5947705554972172\n",
      "KS statistic: 0.06239232135578982\n",
      "p-value: 1.8275887861596338e-12\n",
      "\n",
      "\n"
     ]
    }
   ],
   "source": [
    "compute_p_values(b_df, r_df, 'tile_clicked', 0)"
   ]
  },
  {
   "cell_type": "code",
   "execution_count": 169,
   "metadata": {},
   "outputs": [
    {
     "name": "stdout",
     "output_type": "stream",
     "text": [
      "---- Board Size: 9 ----\n",
      "Ratio b/m: 1.0441176470588236\n",
      "KS statistic: 0.09755592377796189\n",
      "p-value: 0.8458275739996116\n",
      "\n",
      "\n",
      "---- Board Size: 16 ----\n",
      "Ratio b/m: 1.135135135135135\n",
      "KS statistic: 0.08333333333333333\n",
      "p-value: 0.6059153633674372\n",
      "\n",
      "\n",
      "---- Board Size: 25 ----\n",
      "Ratio b/m: 1.8849557522123894\n",
      "KS statistic: 0.06554073704765466\n",
      "p-value: 0.5224746416602392\n",
      "\n",
      "\n",
      "---- Board Size: 36 ----\n",
      "Ratio b/m: 1.4757834757834758\n",
      "KS statistic: 0.06448756448756449\n",
      "p-value: 0.3307469501284951\n",
      "\n",
      "\n",
      "---- Board Size: 49 ----\n",
      "Ratio b/m: 6.561702127659575\n",
      "KS statistic: 0.05234566879156663\n",
      "p-value: 0.20554781559618626\n",
      "\n",
      "\n"
     ]
    }
   ],
   "source": [
    "compute_p_values(b_df, r_df, 'tile_clicked', 1)"
   ]
  },
  {
   "attachments": {},
   "cell_type": "markdown",
   "metadata": {},
   "source": [
    "# Comparison inner grid"
   ]
  },
  {
   "cell_type": "code",
   "execution_count": 170,
   "metadata": {},
   "outputs": [
    {
     "name": "stdout",
     "output_type": "stream",
     "text": [
      "---- Board Size: 9 ----\n",
      "Ratio b/m: 0.2727272727272727\n",
      "KS statistic: 0.0\n",
      "p-value: 1.0\n",
      "\n",
      "\n",
      "---- Board Size: 16 ----\n",
      "Ratio b/m: 0.1834862385321101\n",
      "KS statistic: 0.05229357798165138\n",
      "p-value: 0.9999001735452624\n",
      "\n",
      "\n",
      "---- Board Size: 25 ----\n",
      "Ratio b/m: 0.2256169212690952\n",
      "KS statistic: 0.08807652761457109\n",
      "p-value: 0.16431446354979756\n",
      "\n",
      "\n",
      "---- Board Size: 36 ----\n",
      "Ratio b/m: 0.14340544312630846\n",
      "KS statistic: 0.07099087718583341\n",
      "p-value: 0.05057569929183507\n",
      "\n",
      "\n",
      "---- Board Size: 49 ----\n",
      "Ratio b/m: 0.700961118392311\n",
      "KS statistic: 0.05100456734765059\n",
      "p-value: 0.00010417395394781226\n",
      "\n",
      "\n"
     ]
    }
   ],
   "source": [
    "compute_p_values(b_df, r_df, 'tile_clicked', 0, filter_in=True)"
   ]
  },
  {
   "cell_type": "code",
   "execution_count": 171,
   "metadata": {},
   "outputs": [
    {
     "name": "stdout",
     "output_type": "stream",
     "text": [
      "---- Board Size: 9 ----\n",
      "Ratio b/m: 1.5\n",
      "KS statistic: 0.0\n",
      "p-value: 1.0\n",
      "\n",
      "\n",
      "---- Board Size: 16 ----\n",
      "Ratio b/m: 1.2222222222222223\n",
      "KS statistic: 0.1691919191919192\n",
      "p-value: 0.5563103247063635\n",
      "\n",
      "\n",
      "---- Board Size: 25 ----\n",
      "Ratio b/m: 1.697674418604651\n",
      "KS statistic: 0.1350748646065626\n",
      "p-value: 0.2481837096564869\n",
      "\n",
      "\n",
      "---- Board Size: 36 ----\n",
      "Ratio b/m: 1.4503311258278146\n",
      "KS statistic: 0.03764855302549215\n",
      "p-value: 0.9988650058740531\n",
      "\n",
      "\n",
      "---- Board Size: 49 ----\n",
      "Ratio b/m: 6.113360323886639\n",
      "KS statistic: 0.034592594578652436\n",
      "p-value: 0.9525012111957946\n",
      "\n",
      "\n"
     ]
    }
   ],
   "source": [
    "compute_p_values(b_df, r_df, 'tile_clicked', 1, filter_in=True)"
   ]
  },
  {
   "attachments": {},
   "cell_type": "markdown",
   "metadata": {},
   "source": [
    "# Distance comparison"
   ]
  },
  {
   "cell_type": "code",
   "execution_count": 172,
   "metadata": {},
   "outputs": [],
   "source": [
    "def plot_error_distance(b_df, r_df):\n",
    "\n",
    "    b_df['board_size'] = b_df['board_size'].apply(np.sqrt)\n",
    "    b_df = b_df[b_df['match']==0]\n",
    "    b_df = b_df[b_df['correct_tile'] >= 0]\n",
    "    b_df['Data'] = 'Behavioral'\n",
    "    \n",
    "    r_df['board_size'] = r_df['board_size'].apply(np.sqrt)\n",
    "    r_df = r_df[r_df['match']==0]\n",
    "    r_df = r_df[r_df['correct_tile'] >= 0]\n",
    "    r_df['Data'] = 'Model'\n",
    "    \n",
    "    l = []\n",
    "    # r_m = b_df[(b_df['nsp'] <= 0)]\n",
    "    # r_m['Data'] = f'Random match'\n",
    "    # l.append(r_m)\n",
    "    # for nsl_a, nsl_b in [[0,1], [1, 2], [2,3], [3, 5], [5, 10], [10, 100]]:\n",
    "    #     nsl = b_df[(b_df['nslc'] > nsl_a) & (b_df['nslc'] <= nsl_b)]\n",
    "    #     nsl['Data'] = f'Behavioral (nslc in ({nsl_a}, {nsl_b}])'\n",
    "    #     l.append(nsl)\n",
    "\n",
    "    l.append(b_df)\n",
    "    l.append(r_df)\n",
    "\n",
    "    df = pd.concat(l)\n",
    "\n",
    "    # palette = list(sns.color_palette(\"Blues\"))[::-1] + ['red'] + ['green']\n",
    "    palette = ['red'] + ['green']\n",
    "    plt.figure(figsize=(16, 16))\n",
    "    #palette = ['grey']\n",
    "    ax = sns.catplot(x=\"board_size\", y=\"distance\", hue='Data', data=df, aspect=0.85, kind='bar', palette=palette)\n",
    "    ax.set(xlabel=\"Board size\", ylabel=\"distance-from-correct\")\n",
    "    plt.show()"
   ]
  },
  {
   "cell_type": "code",
   "execution_count": 173,
   "metadata": {},
   "outputs": [
    {
     "data": {
      "text/plain": [
       "<Figure size 1600x1600 with 0 Axes>"
      ]
     },
     "metadata": {},
     "output_type": "display_data"
    },
    {
     "data": {
      "image/png": "[encoded data removed]",
      "text/plain": [
       "<Figure size 549.375x500 with 1 Axes>"
      ]
     },
     "metadata": {},
     "output_type": "display_data"
    }
   ],
   "source": [
    "plot_error_distance(b_df, r_df)"
   ]
  }
 ],
 "metadata": {
  "kernelspec": {
   "display_name": "torch",
   "language": "python",
   "name": "python3"
  },
  "language_info": {
   "codemirror_mode": {
    "name": "ipython",
    "version": 3
   },
   "file_extension": ".py",
   "mimetype": "text/x-python",
   "name": "python",
   "nbconvert_exporter": "python",
   "pygments_lexer": "ipython3",
   "version": "3.9.16"
  },
  "orig_nbformat": 4
 },
 "nbformat": 4,
 "nbformat_minor": 2
}

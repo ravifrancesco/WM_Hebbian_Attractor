{
 "cells": [
  {
   "cell_type": "code",
   "execution_count": 99,
   "metadata": {},
   "outputs": [],
   "source": [
    "import torch\n",
    "import torch.nn as nn\n",
    "\n",
    "import math\n",
    "\n",
    "import numpy as np\n",
    "\n",
    "import matplotlib.pyplot as plt"
   ]
  },
  {
   "cell_type": "code",
   "execution_count": 100,
   "metadata": {},
   "outputs": [],
   "source": [
    "def positional_encoding(x, L):\n",
    "    freq = torch.pi * torch.pow(2, torch.arange(0, L))\n",
    "    pe = torch.zeros(L*2)\n",
    "    pe[0::2] = torch.sin(freq * x)\n",
    "    pe[1::2] = torch.cos(freq * x)\n",
    "    return pe"
   ]
  },
  {
   "cell_type": "code",
   "execution_count": 101,
   "metadata": {},
   "outputs": [
    {
     "data": {
      "image/png": "[encoded data removed]",
      "text/plain": [
       "<Figure size 640x480 with 1 Axes>"
      ]
     },
     "metadata": {},
     "output_type": "display_data"
    }
   ],
   "source": [
    "# Example usage\n",
    "L = 10\n",
    "size = 9\n",
    "embedding = torch.stack([positional_encoding(x/(size-1), 5) for x in range(size)])\n",
    "fig = plt.imshow(embedding.T, aspect='auto', interpolation='none', cmap='hot')"
   ]
  },
  {
   "attachments": {},
   "cell_type": "markdown",
   "metadata": {},
   "source": [
    "# Studying inverse"
   ]
  },
  {
   "cell_type": "code",
   "execution_count": 126,
   "metadata": {},
   "outputs": [
    {
     "name": "stdout",
     "output_type": "stream",
     "text": [
      "tensor([ 9.2388e-01,  3.8268e-01,  7.0711e-01, -7.0711e-01, -1.0000e+00,\n",
      "         1.1925e-08, -2.3850e-08, -1.0000e+00,  4.7700e-08,  1.0000e+00])\n"
     ]
    }
   ],
   "source": [
    "x = 3\n",
    "size = 9\n",
    "L = 5\n",
    "emb = positional_encoding(x/(size-1), L)\n",
    "print(emb)"
   ]
  },
  {
   "cell_type": "code",
   "execution_count": 129,
   "metadata": {},
   "outputs": [
    {
     "name": "stdout",
     "output_type": "stream",
     "text": [
      "tensor([ 3.0000e+00,  1.9000e+01,  3.5000e+01,  5.1000e+01,  6.7000e+01,\n",
      "         8.3000e+01,  9.9000e+01,  1.1500e+02,  1.3100e+02,  1.4700e+02,\n",
      "         1.6300e+02,  1.7900e+02,  1.9500e+02,  2.1100e+02,  2.2700e+02,\n",
      "         2.4300e+02,  2.5900e+02,  2.7500e+02,  2.9100e+02,  3.0700e+02,\n",
      "         1.0000e+00,  9.0000e+00,  1.7000e+01,  2.5000e+01,  3.3000e+01,\n",
      "         4.1000e+01,  4.9000e+01,  5.7000e+01,  6.5000e+01,  7.3000e+01,\n",
      "         8.1000e+01,  8.9000e+01,  9.7000e+01,  1.0500e+02,  1.1300e+02,\n",
      "         1.2100e+02,  1.2900e+02,  1.3700e+02,  1.4500e+02,  1.5300e+02,\n",
      "        -1.0000e+00,  3.0000e+00,  7.0000e+00,  1.1000e+01,  1.5000e+01,\n",
      "         1.9000e+01,  2.3000e+01,  2.7000e+01,  3.1000e+01,  3.5000e+01,\n",
      "         3.9000e+01,  4.3000e+01,  4.7000e+01,  5.1000e+01,  5.5000e+01,\n",
      "         5.9000e+01,  6.3000e+01,  6.7000e+01,  7.1000e+01,  7.5000e+01,\n",
      "        -7.5916e-09,  2.0000e+00,  4.0000e+00,  6.0000e+00,  8.0000e+00,\n",
      "         1.0000e+01,  1.2000e+01,  1.4000e+01,  1.6000e+01,  1.8000e+01,\n",
      "         2.0000e+01,  2.2000e+01,  2.4000e+01,  2.6000e+01,  2.8000e+01,\n",
      "         3.0000e+01,  3.2000e+01,  3.4000e+01,  3.6000e+01,  3.8000e+01,\n",
      "         7.5916e-09,  1.0000e+00,  2.0000e+00,  3.0000e+00,  4.0000e+00,\n",
      "         5.0000e+00,  6.0000e+00,  7.0000e+00,  8.0000e+00,  9.0000e+00,\n",
      "         1.0000e+01,  1.1000e+01,  1.2000e+01,  1.3000e+01,  1.4000e+01,\n",
      "         1.5000e+01,  1.6000e+01,  1.7000e+01,  1.8000e+01,  1.9000e+01])\n"
     ]
    },
    {
     "data": {
      "text/plain": [
       "tensor([3.0000e+00, 1.0000e+00, 9.0000e+00, 3.0000e+00, 7.0000e+00, 2.0000e+00,\n",
       "        4.0000e+00, 6.0000e+00, 8.0000e+00, 7.5916e-09, 1.0000e+00, 2.0000e+00,\n",
       "        3.0000e+00, 4.0000e+00, 5.0000e+00, 6.0000e+00, 7.0000e+00, 8.0000e+00,\n",
       "        9.0000e+00, 3.0000e+00, 3.0000e+00, 1.0000e+00, 5.0000e+00, 9.0000e+00,\n",
       "        1.0000e+00, 3.0000e+00, 5.0000e+00, 7.0000e+00, 9.0000e+00, 0.0000e+00,\n",
       "        1.0000e+00, 2.0000e+00, 3.0000e+00, 4.0000e+00, 5.0000e+00, 6.0000e+00,\n",
       "        7.0000e+00, 8.0000e+00, 9.0000e+00])"
      ]
     },
     "execution_count": 129,
     "metadata": {},
     "output_type": "execute_result"
    }
   ],
   "source": [
    "arcsin = torch.arcsin(emb[0::2]) / (torch.pi * torch.pow(2, torch.arange(0, L)))\n",
    "arcsin = torch.cat([((v + torch.arange(20) * pow(2, 1-idx))*(size-1)).flatten() for idx, v in enumerate(arcsin)])\n",
    "\n",
    "print(arcsin)\n",
    "\n",
    "arccos = torch.arccos(emb[1::2]) / (torch.pi * torch.pow(2, torch.arange(0, L)))\n",
    "arccos = torch.cat([((v + torch.arange(20) * pow(2, 1-idx))*(size-1)).flatten() for idx, v in enumerate(arccos)])\n",
    "\n",
    "decoding = torch.cat([arcsin, arccos])\n",
    "decoding = decoding[(decoding >= 0) & (decoding <= size)]\n",
    "\n",
    "decoding"
   ]
  },
  {
   "cell_type": "code",
   "execution_count": 130,
   "metadata": {},
   "outputs": [
    {
     "data": {
      "text/plain": [
       "tensor([ 3.7500e-01,  1.2500e-01, -1.2500e-01, -9.4895e-10,  9.4895e-10])"
      ]
     },
     "execution_count": 130,
     "metadata": {},
     "output_type": "execute_result"
    }
   ],
   "source": [
    "arcsin = torch.arcsin(emb[0::2]) / (torch.pi * torch.pow(2, torch.arange(0, L)))\n",
    "arcsin"
   ]
  },
  {
   "cell_type": "code",
   "execution_count": 132,
   "metadata": {},
   "outputs": [
    {
     "data": {
      "text/plain": [
       "tensor([ 0,  2,  4,  6,  8, 10, 12, 14, 16, 18, 20, 22, 24, 26, 28, 30, 32, 34,\n",
       "        36, 38])"
      ]
     },
     "execution_count": 132,
     "metadata": {},
     "output_type": "execute_result"
    }
   ],
   "source": [
    "torch.arange(20) * pow(2, 1-0)"
   ]
  }
 ],
 "metadata": {
  "kernelspec": {
   "display_name": "torch",
   "language": "python",
   "name": "python3"
  },
  "language_info": {
   "codemirror_mode": {
    "name": "ipython",
    "version": 3
   },
   "file_extension": ".py",
   "mimetype": "text/x-python",
   "name": "python",
   "nbconvert_exporter": "python",
   "pygments_lexer": "ipython3",
   "version": "3.9.16"
  },
  "orig_nbformat": 4
 },
 "nbformat": 4,
 "nbformat_minor": 2
}

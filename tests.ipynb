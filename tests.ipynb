{
 "cells": [
  {
   "cell_type": "code",
   "execution_count": 1,
   "metadata": {},
   "outputs": [
    {
     "data": {
      "text/plain": [
       "<torch.autograd.grad_mode.no_grad at 0x7f675821bac0>"
      ]
     },
     "execution_count": 1,
     "metadata": {},
     "output_type": "execute_result"
    }
   ],
   "source": [
    "from src.memory_game.game import Game\n",
    "from src.strategy.strategies import BaseStrategy, PerfectMemory, TileMemory, RandomHashMemory, BaseAttractorMemory, CNNAttractorMemory, RandomAttractorMemory, BernoulliMemory, BinaryAttractorMemory\n",
    "from src.models.cvmodel import CVModel\n",
    "from src.models.memory import TileRNN, HashRNN, Attractor, FastAttractor\n",
    "\n",
    "from fiftyone import ViewField as F\n",
    "\n",
    "import math\n",
    "\n",
    "import torch\n",
    "\n",
    "import pandas as pd\n",
    "\n",
    "import numpy as np\n",
    "\n",
    "import collections, gc, resource\n",
    "\n",
    "from tqdm import tqdm\n",
    "\n",
    "import seaborn as sns\n",
    "\n",
    "import itertools\n",
    "\n",
    "import random\n",
    "\n",
    "import matplotlib.pyplot as plt\n",
    "import matplotlib.gridspec as grd\n",
    "sns.set_style(style='white')        \n",
    "\n",
    "torch.no_grad()"
   ]
  },
  {
   "cell_type": "code",
   "execution_count": 2,
   "metadata": {},
   "outputs": [],
   "source": [
    "trials = 200\n",
    "lab_size = 5\n",
    "size = 9\n",
    "distractors = list(itertools.product(list(range(1, lab_size)), list(range(lab_size+1,lab_size+size))))\n",
    "distractors = [list(ele) for ele in distractors]\n",
    "\n",
    "tau = 20\n",
    "lr = 0.9\n",
    "rr = 0.3"
   ]
  },
  {
   "cell_type": "code",
   "execution_count": 3,
   "metadata": {},
   "outputs": [
    {
     "data": {
      "text/plain": [
       "[1, 8]"
      ]
     },
     "execution_count": 3,
     "metadata": {},
     "output_type": "execute_result"
    }
   ],
   "source": [
    "distractors[2]"
   ]
  },
  {
   "cell_type": "code",
   "execution_count": 4,
   "metadata": {},
   "outputs": [],
   "source": [
    "def forget(forget_range):\n",
    "    data = []\n",
    "    energy = []\n",
    "    for r in range(forget_range):\n",
    "        correct = 0\n",
    "        for n in range(trials):\n",
    "            dim = lab_size + size\n",
    "            memory = FastAttractor(dim, lr=lr, rr=rr)\n",
    "            random.shuffle(distractors)\n",
    "            input = torch.full([dim], 0.)\n",
    "            input[[0, 9]] = 1.\n",
    "            memory(input, tau)\n",
    "            for i in range(r):\n",
    "                d_input = torch.full([dim], 0.)\n",
    "                d_input[distractors[i]] = 1.\n",
    "                memory(d_input, tau)\n",
    "            r_input = torch.zeros(dim)\n",
    "            r_input[9] = 1.\n",
    "            pos = memory(r_input, tau).flatten()[:size]\n",
    "            if torch.argmax(pos.flatten()) == 0:\n",
    "                correct+=1\n",
    "        data.append(correct / trials)\n",
    "    return data"
   ]
  },
  {
   "cell_type": "code",
   "execution_count": 5,
   "metadata": {},
   "outputs": [
    {
     "data": {
      "text/plain": [
       "[1.0, 0.0, 0.0, 0.0, 0.0, 0.0, 0.0, 0.0, 0.0, 0.0]"
      ]
     },
     "execution_count": 5,
     "metadata": {},
     "output_type": "execute_result"
    }
   ],
   "source": [
    "forget(10)"
   ]
  },
  {
   "cell_type": "code",
   "execution_count": 12,
   "metadata": {},
   "outputs": [
    {
     "data": {
      "text/plain": [
       "[<matplotlib.lines.Line2D at 0x7f660b454190>]"
      ]
     },
     "execution_count": 12,
     "metadata": {},
     "output_type": "execute_result"
    },
    {
     "data": {
      "image/png": "[encoded data removed]",
      "text/plain": [
       "<Figure size 640x480 with 1 Axes>"
      ]
     },
     "metadata": {},
     "output_type": "display_data"
    }
   ],
   "source": [
    "tau = 20\n",
    "dim = lab_size + size\n",
    "memory = FastAttractor(dim, lr=0.5, rr=0.9)\n",
    "random.shuffle(distractors)\n",
    "\n",
    "for i in range(20):\n",
    "    d_input = torch.full([dim], -1.)\n",
    "    d_input[distractors[i]] = 1.\n",
    "    memory(d_input, tau)\n",
    "\n",
    "input = torch.full([dim], 0.)\n",
    "input[[0, 9]] = 1.\n",
    "memory(input, tau)\n",
    "for i in range(30):\n",
    "    d_input = torch.full([dim], -1.)\n",
    "    d_input[distractors[i]] = 1.\n",
    "    memory(d_input, tau)\n",
    "r_input = torch.zeros(dim)\n",
    "r_input[9] = 1.\n",
    "pos = memory(r_input, tau).flatten()[:size]\n",
    "\n",
    "e_h = memory.get_energy_history()\n",
    "plt.plot(-e_h[400:])"
   ]
  }
 ],
 "metadata": {
  "kernelspec": {
   "display_name": "torch",
   "language": "python",
   "name": "python3"
  },
  "language_info": {
   "codemirror_mode": {
    "name": "ipython",
    "version": 3
   },
   "file_extension": ".py",
   "mimetype": "text/x-python",
   "name": "python",
   "nbconvert_exporter": "python",
   "pygments_lexer": "ipython3",
   "version": "3.9.16"
  },
  "orig_nbformat": 4
 },
 "nbformat": 4,
 "nbformat_minor": 2
}
